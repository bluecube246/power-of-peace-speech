{
 "cells": [
  {
   "cell_type": "code",
   "execution_count": 12,
   "metadata": {},
   "outputs": [
    {
     "name": "stdout",
     "output_type": "stream",
     "text": [
      "The autoreload extension is already loaded. To reload it, use:\n",
      "  %reload_ext autoreload\n"
     ]
    }
   ],
   "source": [
    "%load_ext autoreload\n",
    "%autoreload 2"
   ]
  },
  {
   "cell_type": "code",
   "execution_count": 2,
   "metadata": {},
   "outputs": [],
   "source": [
    "import os\n",
    "import re\n",
    "import sys\n",
    "import glob\n",
    "import codecs\n",
    "import pathlib\n",
    "\n",
    "from tqdm import tqdm\n",
    "\n",
    "import pandas as pd\n",
    "import numpy as np\n",
    "\n",
    "import matplotlib.pyplot as plt\n",
    "import seaborn as sns\n",
    "%matplotlib inline\n",
    "\n",
    "import utils"
   ]
  },
  {
   "cell_type": "code",
   "execution_count": 3,
   "metadata": {},
   "outputs": [
    {
     "name": "stdout",
     "output_type": "stream",
     "text": [
      "Number of Sources Files:  49\n",
      "Number of Text Folders:  129\n"
     ]
    }
   ],
   "source": [
    "sources_files = utils.get_sources_files()\n",
    "text_folders = utils.get_text_folders()\n",
    "\n",
    "print(\"Number of Sources Files: \", len(sources_files))\n",
    "print(\"Number of Text Folders: \", len(text_folders))"
   ]
  },
  {
   "cell_type": "code",
   "execution_count": null,
   "metadata": {},
   "outputs": [
    {
     "name": "stdout",
     "output_type": "stream",
     "text": [
      "Source file (01/49): data\\raw\\now_sources_pt1.txt... \n",
      "  10-01: AU, BD, CA, GB, GH, HK, IE, IN, JM, KE, LK, MY, NG, NZ, PH, PK, SG, TZ, US, ZA, \n",
      "  10-02: AU, BD, CA, GB, GH, HK, IE, IN, JM, KE, LK, MY, NG, NZ, PH, PK, SG, TZ, US, ZA, \n",
      "  10-03: AU, BD, CA, GB, GH, HK, IE, IN, JM, KE, LK, MY, NG, NZ, PH, PK, SG, TZ, US, ZA, \n",
      "  10-04: AU, BD, CA, GB, GH, HK, IE, IN, JM, KE, LK, MY, NG, NZ, PH, PK, SG, US, ZA, \n",
      "  10-05: AU, BD, CA, GB, GH, HK, IE, IN, JM, KE, LK, MY, NG, NZ, PH, PK, SG, TZ, US, ZA, \n",
      "  10-06: AU, BD, CA, GB, GH, HK, IE, IN, JM, KE, LK, MY, NG, NZ, PH, PK, SG, TZ, US, ZA, \n",
      "  10-07: AU, BD, CA, GB, GH, HK, IE, IN, JM, KE, LK, MY, NG, NZ, PH, PK, SG, US, ZA, \n",
      "  10-08: AU, BD, CA, GB, GH, HK, IE, IN, JM, KE, LK, MY, NG, NZ, PH, PK, SG, TZ, US, ZA, \n",
      "  10-09: AU, BD, CA, GB, GH, HK, IE, IN, JM, KE, LK, MY, NG, NZ, PH, PK, SG, US, ZA, \n",
      "  10-10: AU, BD, CA, GB, GH, HK, IE, IN, JM, KE, LK, MY, NG, NZ, PH, PK, SG, TZ, US, ZA, \n",
      "  10-11: AU, BD, CA, GB, GH, HK, IE, IN, JM, KE, LK, MY, NG, NZ, PH, PK, SG, TZ, US, ZA, \n",
      "  10-12: AU, BD, CA, GB, GH, HK, IE, IN, JM, KE, LK, MY, NG, NZ, PH, PK, SG, TZ, US, ZA, \n",
      "  11-01: AU, BD, CA, GB, GH, HK, IE, IN, JM, KE, LK, MY, NG, NZ, PH, PK, SG, TZ, US, ZA, \n",
      "  11-02: AU, BD, CA, GB, GH, HK, IE, IN, JM, KE, LK, MY, NG, NZ, PH, PK, SG, TZ, US, ZA, \n",
      "  11-03: AU, BD, CA, GB, GH, HK, IE, IN, JM, KE, LK, MY, NG, NZ, PH, PK, SG, TZ, US, ZA, \n",
      "  11-04: AU, BD, CA, GB, GH, HK, IE, IN, JM, KE, LK, MY, NG, NZ, PH, PK, SG, TZ, US, ZA, \n",
      "  11-05: AU, BD, CA, GB, GH, HK, IE, IN, JM, KE, LK, MY, NG, NZ, PH, PK, SG, TZ, US, ZA, \n",
      "  11-06: AU, BD, CA, GB, GH, HK, IE, IN, JM, KE, LK, MY, NG, NZ, PH, PK, SG, TZ, US, ZA, \n",
      "  11-07: AU, BD, CA, GB, GH, HK, IE, IN, JM, KE, LK, MY, NG, NZ, PH, PK, SG, TZ, US, ZA, \n",
      "  11-08: AU, BD, CA, GB, GH, HK, IE, IN, JM, KE, LK, MY, NG, NZ, PH, PK, SG, TZ, US, ZA, \n",
      "  11-09: AU, BD, CA, GB, GH, HK, IE, IN, JM, KE, LK, MY, NG, NZ, PH, PK, SG, TZ, US, ZA, \n",
      "  11-10: AU, BD, CA, GB, GH, HK, IE, IN, JM, KE, LK, MY, NG, NZ, PH, PK, SG, TZ, US, ZA, \n",
      "  11-11: AU, BD, CA, GB, GH, HK, IE, IN, JM, KE, LK, MY, NG, NZ, PH, PK, SG, TZ, US, ZA, \n",
      "  11-12: AU, BD, CA, GB, GH, HK, IE, IN, "
     ]
    }
   ],
   "source": [
    "%%time\n",
    "\n",
    "MAX_ARTICLES = 50\n",
    "SOURCES_SET = sources_files\n",
    "\n",
    "summary_stats, file_lookup = [], []\n",
    "current_year, current_month = None, None\n",
    "for i, sources_file in enumerate(SOURCES_SET, 1): \n",
    "    print(f\"Source file ({i:>02}/{len(SOURCES_SET):>02}): {sources_file}... \", end=\"\", flush=True)\n",
    "    \n",
    "    sources = utils.read_sources_file(sources_file)\n",
    "    sources[\"month\"] = sources[\"date\"].dt.month\n",
    "    sources[\"year\"] = sources[\"date\"].dt.year\n",
    "    \n",
    "    sources_groups = sources.groupby([\"year\", \"month\", \"country\"])\n",
    "    for (year, month, country), country_df in sources_groups:\n",
    "        success = True\n",
    "        if (\n",
    "            sources[\"year\"].unique().shape[0] > 1 and\n",
    "            (year != current_year or month != current_month)\n",
    "        ):\n",
    "            print(f\"\\n  {utils.format_year(year)}-{utils.format_month(month)}: \", end=\"\", flush=True)\n",
    "            current_year, current_month = year, month\n",
    "            \n",
    "        print(country, end=\", \", flush=True)\n",
    "\n",
    "        try:\n",
    "            text_file_path = utils.get_text_file_path(text_folders, year, month, country)\n",
    "        except:\n",
    "            text_file_path = None\n",
    "            success = False\n",
    "            \n",
    "        if text_file_path:\n",
    "            try:\n",
    "                text_data = utils.read_text_file(text_file_path)\n",
    "            except:\n",
    "                success = False\n",
    "        \n",
    "        file_lookup.append((year, month, country, sources_file, text_file_path, success))\n",
    "        \n",
    "\n",
    "        for publisher, publisher_df in country_df.groupby(\"website\"):\n",
    "            if success:\n",
    "                to_export = publisher_df.merge(text_data, how=\"left\", on=\"id\")\n",
    "\n",
    "                if to_export.shape[0] >= MAX_ARTICLES:\n",
    "                    to_export = to_export.sample(MAX_ARTICLES)\n",
    "\n",
    "                to_export[\"export_path\"] = to_export.apply(utils.export_report, axis=1, \n",
    "                                                       path=utils.CLEAN_DATA_FOLDER)\n",
    "\n",
    "            summary_stats.append((year, month, country, publisher, *utils.get_basic_summary_stats(publisher_df)))\n",
    "        \n",
    "    \n",
    "    print()\n",
    "    \n",
    "summary_stats_df = pd.DataFrame(summary_stats, columns=[\"year\", \"month\", \"country\", \"publisher\", \"num_articles\", \"total_words\"])\n",
    "summary_stats_df.to_csv(\"data/summary_stats.csv\", index=False)\n",
    "\n",
    "file_lookup_df = pd.DataFrame(file_lookup, columns=[\"year\", \"month\", \"country\", \"source_file\", \"text_file\", \"success\"])\n",
    "file_lookup_df.to_csv(\"data/file_lookup.csv\", index=False)"
   ]
  },
  {
   "cell_type": "code",
   "execution_count": 8,
   "metadata": {},
   "outputs": [
    {
     "data": {
      "image/png": "[encoded data removed]",
      "text/plain": [
       "<Figure size 1440x576 with 1 Axes>"
      ]
     },
     "metadata": {
      "needs_background": "light"
     },
     "output_type": "display_data"
    }
   ],
   "source": [
    "summary_by_country_by_year = summary_stats_df.groupby([\"country\", \"year\"])\n",
    "summary_by_country_by_year = summary_by_country_by_year[[\"num_articles\", \"total_words\"]]\n",
    "summary_by_country_by_year = summary_by_country_by_year.sum().reset_index()\n",
    "\n",
    "fig, ax = plt.subplots(figsize=(20, 8))\n",
    "sns.barplot(\n",
    "    x=\"country\", \n",
    "    y=\"num_articles\", \n",
    "    hue=\"year\",\n",
    "    data=summary_by_country_by_year,\n",
    "    ax=ax\n",
    ")\n",
    "\n",
    "ax.set_xlabel(\"Country\", fontsize=16)\n",
    "ax.set_ylabel(\"Number of Reports\", fontsize=16)\n",
    "ax.set_title(\"Number of Reports per Country per Year\", fontsize=22)\n",
    "\n",
    "ax.tick_params(axis='both', which='major', labelsize=13)\n",
    "ax.legend(loc='center left', bbox_to_anchor=(1, 0.5), fontsize=12);"
   ]
  },
  {
   "cell_type": "code",
   "execution_count": 9,
   "metadata": {},
   "outputs": [
    {
     "data": {
      "image/png": "[encoded data removed]",
      "text/plain": [
       "<Figure size 1440x576 with 1 Axes>"
      ]
     },
     "metadata": {
      "needs_background": "light"
     },
     "output_type": "display_data"
    }
   ],
   "source": [
    "fig, ax = plt.subplots(figsize=(20, 8))\n",
    "sns.barplot(\n",
    "    x=\"country\", \n",
    "    y=\"total_words\", \n",
    "    hue=\"year\",\n",
    "    data=summary_by_country_by_year,\n",
    "    ax=ax\n",
    ")\n",
    "ax.set_xlabel(\"Country\", fontsize=16)\n",
    "ax.set_ylabel(\"Number of Words\", fontsize=16)\n",
    "ax.set_title(\"Number of Words per Country per Year\", fontsize=22)\n",
    "\n",
    "ax.tick_params(axis='both', which='major', labelsize=13)\n",
    "ax.legend(loc='center left', bbox_to_anchor=(1, 0.5), fontsize=12);"
   ]
  },
  {
   "cell_type": "code",
   "execution_count": 11,
   "metadata": {},
   "outputs": [
    {
     "data": {
      "text/html": [
       "<div>\n",
       "<style scoped>\n",
       "    .dataframe tbody tr th:only-of-type {\n",
       "        vertical-align: middle;\n",
       "    }\n",
       "\n",
       "    .dataframe tbody tr th {\n",
       "        vertical-align: top;\n",
       "    }\n",
       "\n",
       "    .dataframe thead th {\n",
       "        text-align: right;\n",
       "    }\n",
       "</style>\n",
       "<table border=\"1\" class=\"dataframe\">\n",
       "  <thead>\n",
       "    <tr style=\"text-align: right;\">\n",
       "      <th></th>\n",
       "      <th>country</th>\n",
       "      <th>publisher</th>\n",
       "      <th>num_articles</th>\n",
       "      <th>total_words</th>\n",
       "    </tr>\n",
       "  </thead>\n",
       "  <tbody>\n",
       "    <tr>\n",
       "      <th>0</th>\n",
       "      <td>AU</td>\n",
       "      <td>3AW</td>\n",
       "      <td>15</td>\n",
       "      <td>5408</td>\n",
       "    </tr>\n",
       "    <tr>\n",
       "      <th>1</th>\n",
       "      <td>AU</td>\n",
       "      <td>4BC</td>\n",
       "      <td>2</td>\n",
       "      <td>1997</td>\n",
       "    </tr>\n",
       "    <tr>\n",
       "      <th>2</th>\n",
       "      <td>AU</td>\n",
       "      <td>6minutes</td>\n",
       "      <td>6</td>\n",
       "      <td>2310</td>\n",
       "    </tr>\n",
       "    <tr>\n",
       "      <th>3</th>\n",
       "      <td>AU</td>\n",
       "      <td>9Coach (blog)</td>\n",
       "      <td>8</td>\n",
       "      <td>5050</td>\n",
       "    </tr>\n",
       "    <tr>\n",
       "      <th>4</th>\n",
       "      <td>AU</td>\n",
       "      <td>9Honey</td>\n",
       "      <td>75</td>\n",
       "      <td>31747</td>\n",
       "    </tr>\n",
       "    <tr>\n",
       "      <th>...</th>\n",
       "      <td>...</td>\n",
       "      <td>...</td>\n",
       "      <td>...</td>\n",
       "      <td>...</td>\n",
       "    </tr>\n",
       "    <tr>\n",
       "      <th>6070</th>\n",
       "      <td>ZA</td>\n",
       "      <td>journalism.co.za (blog)</td>\n",
       "      <td>1</td>\n",
       "      <td>133</td>\n",
       "    </tr>\n",
       "    <tr>\n",
       "      <th>6071</th>\n",
       "      <td>ZA</td>\n",
       "      <td>ofm.co.za</td>\n",
       "      <td>93</td>\n",
       "      <td>22223</td>\n",
       "    </tr>\n",
       "    <tr>\n",
       "      <th>6072</th>\n",
       "      <td>ZA</td>\n",
       "      <td>theSouthAfrica</td>\n",
       "      <td>2</td>\n",
       "      <td>534</td>\n",
       "    </tr>\n",
       "    <tr>\n",
       "      <th>6073</th>\n",
       "      <td>ZA</td>\n",
       "      <td>www.sagoodnews.co.za</td>\n",
       "      <td>11</td>\n",
       "      <td>7696</td>\n",
       "    </tr>\n",
       "    <tr>\n",
       "      <th>6074</th>\n",
       "      <td>ZA</td>\n",
       "      <td>zatrends (press release) (blog)</td>\n",
       "      <td>14</td>\n",
       "      <td>3727</td>\n",
       "    </tr>\n",
       "  </tbody>\n",
       "</table>\n",
       "<p>6075 rows × 4 columns</p>\n",
       "</div>"
      ],
      "text/plain": [
       "     country                        publisher  num_articles  total_words\n",
       "0         AU                              3AW            15         5408\n",
       "1         AU                              4BC             2         1997\n",
       "2         AU                         6minutes             6         2310\n",
       "3         AU                    9Coach (blog)             8         5050\n",
       "4         AU                           9Honey            75        31747\n",
       "...      ...                              ...           ...          ...\n",
       "6070      ZA          journalism.co.za (blog)             1          133\n",
       "6071      ZA                        ofm.co.za            93        22223\n",
       "6072      ZA                   theSouthAfrica             2          534\n",
       "6073      ZA             www.sagoodnews.co.za            11         7696\n",
       "6074      ZA  zatrends (press release) (blog)            14         3727\n",
       "\n",
       "[6075 rows x 4 columns]"
      ]
     },
     "execution_count": 11,
     "metadata": {},
     "output_type": "execute_result"
    }
   ],
   "source": [
    "summary_by_country_by_publisher = summary_stats_df.groupby([\"country\", \"publisher\"])\n",
    "summary_by_country_by_publisher = summary_by_country_by_publisher[[\"num_articles\", \"total_words\"]]\n",
    "summary_by_country_by_publisher = summary_by_country_by_publisher.sum().reset_index()\n",
    "\n",
    "summary_by_country_by_publisher"
   ]
  },
  {
   "cell_type": "code",
   "execution_count": null,
   "metadata": {},
   "outputs": [],
   "source": []
  }
 ],
 "metadata": {
  "kernelspec": {
   "display_name": "Python 3",
   "language": "python",
   "name": "python3"
  },
  "language_info": {
   "codemirror_mode": {
    "name": "ipython",
    "version": 3
   },
   "file_extension": ".py",
   "mimetype": "text/x-python",
   "name": "python",
   "nbconvert_exporter": "python",
   "pygments_lexer": "ipython3",
   "version": "3.8.5"
  }
 },
 "nbformat": 4,
 "nbformat_minor": 4
}

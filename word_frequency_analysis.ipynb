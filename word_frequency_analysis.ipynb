{
 "cells": [
  {
   "cell_type": "code",
   "execution_count": 1,
   "metadata": {},
   "outputs": [
    {
     "name": "stderr",
     "output_type": "stream",
     "text": [
      "[nltk_data] Downloading package punkt to\n",
      "[nltk_data]     C:\\Users\\tommi\\AppData\\Roaming\\nltk_data...\n",
      "[nltk_data]   Package punkt is already up-to-date!\n"
     ]
    }
   ],
   "source": [
    "import os\n",
    "import pandas as pd\n",
    "import numpy as np\n",
    "import time\n",
    "import re\n",
    "import codecs\n",
    "import pathlib\n",
    "import matplotlib.pyplot as plt\n",
    "import seaborn as sns\n",
    "import nltk\n",
    "from nltk.tokenize import sent_tokenize\n",
    "from nltk.tokenize import word_tokenize\n",
    "from sklearn.feature_extraction.text import CountVectorizer\n",
    "import datetime\n",
    "from scipy.spatial.distance import cosine\n",
    "\n",
    "nltk.download('punkt')\n",
    "%matplotlib inline"
   ]
  },
  {
   "cell_type": "markdown",
   "metadata": {},
   "source": [
    "## Import data\n",
    "\n",
    "Please change the directories based on your local machine"
   ]
  },
  {
   "cell_type": "code",
   "execution_count": 15,
   "metadata": {},
   "outputs": [],
   "source": [
    "#Please change directories based on your local machine\n",
    "base_directory = r'C:\\Users\\tommi\\Documents\\Columbia 2020 Fall\\Capstone\\peace-speech-project-master\\peace-speech-project-master\\data\\sample'\n",
    "\n",
    "conflict = pd.read_excel(r'C:\\Users\\tommi\\Documents\\Columbia 2020 Fall\\Capstone\\peace-speech-project-master/enh_conflict_lexicon.xlsx')\n",
    "peace = pd.read_excel(r'C:\\Users\\tommi\\Documents\\Columbia 2020 Fall\\Capstone\\peace-speech-project-master/enh_peace_lexicon.xlsx')\n",
    "resilence = pd.read_excel(r'C:\\Users\\tommi\\Documents\\Columbia 2020 Fall\\Capstone\\peace-speech-project-master/enh_resilience_lexicon.xlsx')"
   ]
  },
  {
   "cell_type": "code",
   "execution_count": 11,
   "metadata": {},
   "outputs": [],
   "source": [
    "#Read Files from local machine\n",
    "start_time = datetime.datetime.now()\n",
    "for entry_country in os.scandir(base_directory):\n",
    "    df_dict_country = {\"id\": [], \"title\": [], \"publisher\": [], \"article_text\":[],\"url\":[], \"path\":[]}\n",
    "    for entry_publisher in os.scandir(entry_country.path):\n",
    "        for entry_year in os.scandir(entry_publisher.path):\n",
    "            for entry_final in os.scandir(entry_year.path):\n",
    "                try:\n",
    "                    with open(entry_final, \"r\") as f:\n",
    "                        article_id = f.readline().strip()\n",
    "                        article_title = f.readline().strip()\n",
    "                        publisher = f.readline().strip()\n",
    "                        url = f.readline()\n",
    "                        f.readline()\n",
    "                        article_text = f.readline().strip()\n",
    "                        df_dict_country['url'].append(url)\n",
    "                        df_dict_country['id'].append(article_id)\n",
    "                        df_dict_country['title'].append(article_title)\n",
    "                        df_dict_country['publisher'].append(publisher)\n",
    "                        df_dict_country['article_text'].append(article_text)\n",
    "                        df_dict_country['path'].append(entry_final.name)\n",
    "                except:\n",
    "                    pass\n",
    "        #break\n",
    "    break\n",
    "end_time = datetime.datetime.now()"
   ]
  },
  {
   "cell_type": "code",
   "execution_count": 24,
   "metadata": {},
   "outputs": [
    {
     "data": {
      "text/plain": [
       "datetime.timedelta(seconds=635, microseconds=160094)"
      ]
     },
     "execution_count": 24,
     "metadata": {},
     "output_type": "execute_result"
    }
   ],
   "source": [
    "#time taken for reading one country\n",
    "end_time - start_time"
   ]
  },
  {
   "cell_type": "code",
   "execution_count": 12,
   "metadata": {},
   "outputs": [],
   "source": [
    "df_dict_country = pd.DataFrame.from_dict(df_dict_country)"
   ]
  },
  {
   "cell_type": "code",
   "execution_count": 13,
   "metadata": {},
   "outputs": [
    {
     "data": {
      "text/html": [
       "<div>\n",
       "<style scoped>\n",
       "    .dataframe tbody tr th:only-of-type {\n",
       "        vertical-align: middle;\n",
       "    }\n",
       "\n",
       "    .dataframe tbody tr th {\n",
       "        vertical-align: top;\n",
       "    }\n",
       "\n",
       "    .dataframe thead th {\n",
       "        text-align: right;\n",
       "    }\n",
       "</style>\n",
       "<table border=\"1\" class=\"dataframe\">\n",
       "  <thead>\n",
       "    <tr style=\"text-align: right;\">\n",
       "      <th></th>\n",
       "      <th>id</th>\n",
       "      <th>title</th>\n",
       "      <th>publisher</th>\n",
       "      <th>article_text</th>\n",
       "      <th>url</th>\n",
       "      <th>path</th>\n",
       "    </tr>\n",
       "  </thead>\n",
       "  <tbody>\n",
       "    <tr>\n",
       "      <th>0</th>\n",
       "      <td>15732244</td>\n",
       "      <td>Gable Tostee dumped by 'emotional starved' gir...</td>\n",
       "      <td>9Honey</td>\n",
       "      <td>&lt;h&gt; Gable Tostee dumped by ' emotional starved...</td>\n",
       "      <td>http://honey.nine.com.au/2016/12/05/06/22/gabl...</td>\n",
       "      <td>15732244_AU_04-12-16.txt</td>\n",
       "    </tr>\n",
       "    <tr>\n",
       "      <th>1</th>\n",
       "      <td>15849634</td>\n",
       "      <td>Food news bites: from a Melbourne icon popping...</td>\n",
       "      <td>9Honey</td>\n",
       "      <td>&lt;h&gt; News bites : from a Melbourne icon popping...</td>\n",
       "      <td>http://kitchen.nine.com.au/2016/12/11/21/45/fo...</td>\n",
       "      <td>15849634_AU_11-12-16.txt</td>\n",
       "    </tr>\n",
       "    <tr>\n",
       "      <th>2</th>\n",
       "      <td>15855997</td>\n",
       "      <td>Made with love: Kaum celebrates the best of Ba...</td>\n",
       "      <td>9Honey</td>\n",
       "      <td>&lt;h&gt; Made with love : Kaum celebrates the best ...</td>\n",
       "      <td>http://elsewhere.nine.com.au/2016/12/12/07/29/...</td>\n",
       "      <td>15855997_AU_11-12-16.txt</td>\n",
       "    </tr>\n",
       "    <tr>\n",
       "      <th>3</th>\n",
       "      <td>15895978</td>\n",
       "      <td>This kid is going viral for his perfect review...</td>\n",
       "      <td>9Honey</td>\n",
       "      <td>&lt;h&gt; This kid is going viral for his perfect re...</td>\n",
       "      <td>http://kitchen.nine.com.au/2016/12/14/12/41/th...</td>\n",
       "      <td>15895978_AU_13-12-16.txt</td>\n",
       "    </tr>\n",
       "    <tr>\n",
       "      <th>4</th>\n",
       "      <td>16005675</td>\n",
       "      <td>Meghan Markle targeted in cruel topless photo ...</td>\n",
       "      <td>9Honey</td>\n",
       "      <td>&lt;h&gt; Meghan Markle targeted in cruel topless ph...</td>\n",
       "      <td>http://honey.nine.com.au/2016/12/21/06/11/megh...</td>\n",
       "      <td>16005675_AU_20-12-16.txt</td>\n",
       "    </tr>\n",
       "    <tr>\n",
       "      <th>...</th>\n",
       "      <td>...</td>\n",
       "      <td>...</td>\n",
       "      <td>...</td>\n",
       "      <td>...</td>\n",
       "      <td>...</td>\n",
       "      <td>...</td>\n",
       "    </tr>\n",
       "    <tr>\n",
       "      <th>109982</th>\n",
       "      <td>50539343</td>\n",
       "      <td>Mutual understanding helps Finch, Khawaja</td>\n",
       "      <td>Yahoo7 Sport</td>\n",
       "      <td>&lt;h&gt; Mutual understanding helps Finch , Khawaja...</td>\n",
       "      <td>https://au.sports.yahoo.com/mutual-understandi...</td>\n",
       "      <td>50539343_AU_25-03-19.txt</td>\n",
       "    </tr>\n",
       "    <tr>\n",
       "      <th>109983</th>\n",
       "      <td>50551208</td>\n",
       "      <td>Gyan hoping to be in shape for Ghana's Africa ...</td>\n",
       "      <td>Yahoo7 Sport</td>\n",
       "      <td>&lt;h&gt; Gyan hoping to be in shape for Ghana 's Af...</td>\n",
       "      <td>https://au.sports.yahoo.com/gyan-hoping-shape-...</td>\n",
       "      <td>50551208_AU_29-03-19.txt</td>\n",
       "    </tr>\n",
       "    <tr>\n",
       "      <th>109984</th>\n",
       "      <td>50558421</td>\n",
       "      <td>No anxiety over Almiron's lack of Newcastle go...</td>\n",
       "      <td>Yahoo7 Sport</td>\n",
       "      <td>&lt;h&gt; No anxiety over Almiron 's lack of Newcast...</td>\n",
       "      <td>https://au.sports.yahoo.com/no-anxiety-over-al...</td>\n",
       "      <td>50558421_AU_01-04-19.txt</td>\n",
       "    </tr>\n",
       "    <tr>\n",
       "      <th>109985</th>\n",
       "      <td>50566157</td>\n",
       "      <td>'He could fit into any top team' - De Ligt bac...</td>\n",
       "      <td>Yahoo7 Sport</td>\n",
       "      <td>&lt;h&gt; ' He could fit into any top team ' - De Li...</td>\n",
       "      <td>https://au.sports.yahoo.com/apos-could-fit-top...</td>\n",
       "      <td>50566157_AU_04-04-19.txt</td>\n",
       "    </tr>\n",
       "    <tr>\n",
       "      <th>109986</th>\n",
       "      <td>50570935</td>\n",
       "      <td>Mamelodi Sundowns attacker Lebohang Maboe back...</td>\n",
       "      <td>Yahoo7 Sport</td>\n",
       "      <td>&lt;h&gt; Mamelodi Sundowns attacker Lebohang Maboe ...</td>\n",
       "      <td>https://au.sports.yahoo.com/mamelodi-sundowns-...</td>\n",
       "      <td>50570935_AU_06-04-19.txt</td>\n",
       "    </tr>\n",
       "  </tbody>\n",
       "</table>\n",
       "<p>109987 rows × 6 columns</p>\n",
       "</div>"
      ],
      "text/plain": [
       "              id                                              title  \\\n",
       "0       15732244  Gable Tostee dumped by 'emotional starved' gir...   \n",
       "1       15849634  Food news bites: from a Melbourne icon popping...   \n",
       "2       15855997  Made with love: Kaum celebrates the best of Ba...   \n",
       "3       15895978  This kid is going viral for his perfect review...   \n",
       "4       16005675  Meghan Markle targeted in cruel topless photo ...   \n",
       "...          ...                                                ...   \n",
       "109982  50539343          Mutual understanding helps Finch, Khawaja   \n",
       "109983  50551208  Gyan hoping to be in shape for Ghana's Africa ...   \n",
       "109984  50558421  No anxiety over Almiron's lack of Newcastle go...   \n",
       "109985  50566157  'He could fit into any top team' - De Ligt bac...   \n",
       "109986  50570935  Mamelodi Sundowns attacker Lebohang Maboe back...   \n",
       "\n",
       "           publisher                                       article_text  \\\n",
       "0             9Honey  <h> Gable Tostee dumped by ' emotional starved...   \n",
       "1             9Honey  <h> News bites : from a Melbourne icon popping...   \n",
       "2             9Honey  <h> Made with love : Kaum celebrates the best ...   \n",
       "3             9Honey  <h> This kid is going viral for his perfect re...   \n",
       "4             9Honey  <h> Meghan Markle targeted in cruel topless ph...   \n",
       "...              ...                                                ...   \n",
       "109982  Yahoo7 Sport  <h> Mutual understanding helps Finch , Khawaja...   \n",
       "109983  Yahoo7 Sport  <h> Gyan hoping to be in shape for Ghana 's Af...   \n",
       "109984  Yahoo7 Sport  <h> No anxiety over Almiron 's lack of Newcast...   \n",
       "109985  Yahoo7 Sport  <h> ' He could fit into any top team ' - De Li...   \n",
       "109986  Yahoo7 Sport  <h> Mamelodi Sundowns attacker Lebohang Maboe ...   \n",
       "\n",
       "                                                      url  \\\n",
       "0       http://honey.nine.com.au/2016/12/05/06/22/gabl...   \n",
       "1       http://kitchen.nine.com.au/2016/12/11/21/45/fo...   \n",
       "2       http://elsewhere.nine.com.au/2016/12/12/07/29/...   \n",
       "3       http://kitchen.nine.com.au/2016/12/14/12/41/th...   \n",
       "4       http://honey.nine.com.au/2016/12/21/06/11/megh...   \n",
       "...                                                   ...   \n",
       "109982  https://au.sports.yahoo.com/mutual-understandi...   \n",
       "109983  https://au.sports.yahoo.com/gyan-hoping-shape-...   \n",
       "109984  https://au.sports.yahoo.com/no-anxiety-over-al...   \n",
       "109985  https://au.sports.yahoo.com/apos-could-fit-top...   \n",
       "109986  https://au.sports.yahoo.com/mamelodi-sundowns-...   \n",
       "\n",
       "                            path  \n",
       "0       15732244_AU_04-12-16.txt  \n",
       "1       15849634_AU_11-12-16.txt  \n",
       "2       15855997_AU_11-12-16.txt  \n",
       "3       15895978_AU_13-12-16.txt  \n",
       "4       16005675_AU_20-12-16.txt  \n",
       "...                          ...  \n",
       "109982  50539343_AU_25-03-19.txt  \n",
       "109983  50551208_AU_29-03-19.txt  \n",
       "109984  50558421_AU_01-04-19.txt  \n",
       "109985  50566157_AU_04-04-19.txt  \n",
       "109986  50570935_AU_06-04-19.txt  \n",
       "\n",
       "[109987 rows x 6 columns]"
      ]
     },
     "execution_count": 13,
     "metadata": {},
     "output_type": "execute_result"
    }
   ],
   "source": [
    "df_dict_country"
   ]
  },
  {
   "cell_type": "markdown",
   "metadata": {},
   "source": [
    "## Word Frequency Analysis with visualization\n",
    "\n",
    "create_vocab_dict: creates the vocab dictionary based on the lexicons from *peace*, *conflict*, *resilence*; have only counted lexicons less than 5 words (4-gram max)\n",
    "\n",
    "word_freq: uses Countvectorizer to creates the dictionary with word counts {str(word):int(count)}\n",
    "\n",
    "plot_n_most_common_words: using the dictionary with word counts, output the graph with given integer n."
   ]
  },
  {
   "cell_type": "code",
   "execution_count": 16,
   "metadata": {},
   "outputs": [],
   "source": [
    "conflict['label'] = 'conflict'\n",
    "peace['label'] = 'peace'\n",
    "resilence['label'] = 'resilence'\n",
    "conflict = conflict.loc[:,['Term', 'label']]\n",
    "peace['Term'] = peace['academic freedom']\n",
    "peace = peace.loc[:,['Term', 'label']]\n",
    "resilence = resilence.loc[:,['Term', 'label']]\n",
    "\n",
    "vocab_df = conflict.copy()\n",
    "vocab_df = vocab_df.append(peace)\n",
    "vocab_df = vocab_df.append(resilence)\n",
    "vocab_df.index = np.arange(0, len(vocab_df))"
   ]
  },
  {
   "cell_type": "code",
   "execution_count": 36,
   "metadata": {},
   "outputs": [],
   "source": [
    "#Create dictionary for the vocab in CountVectorizer\n",
    "def create_vocab_dict(vocab_df):\n",
    "    vocabs = vocab_df.Term.str.lower()\n",
    "    vocabs = list(set(vocabs))\n",
    "    vocab_dictionary = {}\n",
    "    idx = 0\n",
    "    for vocab in vocabs:\n",
    "        voc_len = len(word_tokenize(vocab))\n",
    "        if voc_len < 5:\n",
    "            vocab_dictionary[vocab] = idx\n",
    "            idx += 1\n",
    "    return vocab_dictionary"
   ]
  },
  {
   "cell_type": "code",
   "execution_count": 29,
   "metadata": {},
   "outputs": [],
   "source": [
    "#Using Countvectorizer to count all the n-grams\n",
    "def word_freq(df, vocab_dictionary):\n",
    "    count_vectorizer = CountVectorizer(stop_words='english', ngram_range=(1,4), vocabulary= vocab_dictionary)\n",
    "    count_data = count_vectorizer.fit_transform(df.text)\n",
    "    words = count_vectorizer.get_feature_names()\n",
    "    total_counts = np.zeros(len(words))\n",
    "    for t in count_data:\n",
    "        total_counts += t.toarray()[0]\n",
    "  \n",
    "    count_dict = (zip(words, total_counts))\n",
    "    count_dict = sorted(count_dict, key = lambda x:x[1], reverse = True)\n",
    "\n",
    "    return count_dict"
   ]
  },
  {
   "cell_type": "code",
   "execution_count": 31,
   "metadata": {},
   "outputs": [],
   "source": [
    "def plot_n_most_common_words(count_dict, n):\n",
    "    count_dict = sorted(count_dict, key=lambda x:x[1], reverse=True)[0:n]\n",
    "    words = [w[0] for w in count_dict]\n",
    "    counts = [w[1] for w in count_dict]\n",
    "    x_pos = np.arange(len(words)) \n",
    "    plt.figure(2, figsize=(15, 15/1.6180))\n",
    "    plt.subplot(title= str(n) + ' most common words')\n",
    "    sns.set_context(\"notebook\", font_scale=1.25, rc={\"lines.linewidth\": 2.5})\n",
    "    sns.barplot(x_pos, counts, palette='husl')\n",
    "    plt.xticks(x_pos, words, rotation=90) \n",
    "    plt.xlabel('words')\n",
    "    plt.ylabel('counts')\n",
    "    plt.show()"
   ]
  },
  {
   "cell_type": "code",
   "execution_count": 37,
   "metadata": {},
   "outputs": [],
   "source": [
    "vocab_dictionary = create_vocab_dict(vocab_df)"
   ]
  },
  {
   "cell_type": "markdown",
   "metadata": {},
   "source": [
    "### Create Word Freq\n",
    "\n",
    "If you have used different columns for cleaned_text, please add another column or change the column name to text."
   ]
  },
  {
   "cell_type": "code",
   "execution_count": 39,
   "metadata": {},
   "outputs": [],
   "source": [
    "#df_dict_country['text'] = df_dict_country['article_text']\n",
    "start_time = datetime.datetime.now()\n",
    "count_dict= word_freq(df_dict_country, vocab_dictionary)\n",
    "end_time = datetime.datetime.now()"
   ]
  },
  {
   "cell_type": "code",
   "execution_count": 40,
   "metadata": {},
   "outputs": [
    {
     "data": {
      "text/plain": [
       "datetime.timedelta(seconds=96, microseconds=711588)"
      ]
     },
     "execution_count": 40,
     "metadata": {},
     "output_type": "execute_result"
    }
   ],
   "source": [
    "#Time taken for creating count_dict\n",
    "end_time - start_time"
   ]
  },
  {
   "cell_type": "code",
   "execution_count": 41,
   "metadata": {},
   "outputs": [
    {
     "data": {
      "image/png": "[encoded data removed]",
      "text/plain": [
       "<Figure size 1080x667.491 with 1 Axes>"
      ]
     },
     "metadata": {
      "needs_background": "light"
     },
     "output_type": "display_data"
    }
   ],
   "source": [
    "plot_n_most_common_words(count_dict, 10)"
   ]
  }
 ],
 "metadata": {
  "kernelspec": {
   "display_name": "Python 3",
   "language": "python",
   "name": "python3"
  },
  "language_info": {
   "codemirror_mode": {
    "name": "ipython",
    "version": 3
   },
   "file_extension": ".py",
   "mimetype": "text/x-python",
   "name": "python",
   "nbconvert_exporter": "python",
   "pygments_lexer": "ipython3",
   "version": "3.7.3"
  }
 },
 "nbformat": 4,
 "nbformat_minor": 4
}

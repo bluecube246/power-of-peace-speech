{
 "cells": [
  {
   "cell_type": "code",
   "execution_count": 3,
   "metadata": {},
   "outputs": [
    {
     "name": "stderr",
     "output_type": "stream",
     "text": [
      "[nltk_data] Downloading package punkt to /Users/hojinlee/nltk_data...\n",
      "[nltk_data]   Package punkt is already up-to-date!\n"
     ]
    }
   ],
   "source": [
    "import os\n",
    "import pandas as pd\n",
    "import numpy as np\n",
    "import time\n",
    "import re\n",
    "import codecs\n",
    "import pathlib\n",
    "import matplotlib.pyplot as plt\n",
    "import seaborn as sns\n",
    "import nltk\n",
    "from nltk.tokenize import sent_tokenize\n",
    "from nltk.tokenize import word_tokenize\n",
    "from sklearn.feature_extraction.text import CountVectorizer\n",
    "import datetime\n",
    "from scipy.spatial.distance import cosine\n",
    "\n",
    "nltk.download('punkt')\n",
    "%matplotlib inline"
   ]
  },
  {
   "cell_type": "markdown",
   "metadata": {},
   "source": [
    "## Import data\n",
    "\n",
    "Please change the directories based on your local machine"
   ]
  },
  {
   "cell_type": "code",
   "execution_count": 4,
   "metadata": {},
   "outputs": [],
   "source": [
    "#Please change directories based on your local machine\n",
    "country_directory = r'/Users/hojinlee/Documents/Columbia/2020/Fall2020/peace-speech-project_master/data/preprocessed/lemmatized/IN'\n",
    "\n",
    "conflict = pd.read_excel(r'/Users/hojinlee/Documents/Columbia/2020/Fall2020/peace-speech-project_master/lexicon_list/enh_conflict_lexicon.xlsx')\n",
    "peace = pd.read_excel(r'/Users/hojinlee/Documents/Columbia/2020/Fall2020/peace-speech-project_master/lexicon_list/enh_peace_lexicon.xlsx')\n",
    "resilence = pd.read_excel(r'/Users/hojinlee/Documents/Columbia/2020/Fall2020/peace-speech-project_master/lexicon_list/enh_resilience_lexicon.xlsx')\n",
    "\n"
   ]
  },
  {
   "cell_type": "code",
   "execution_count": 21,
   "metadata": {},
   "outputs": [],
   "source": [
    "#Read Files from local machine\n",
    "start_time = datetime.datetime.now()\n",
    "df_dict_country = {\"id\": [], \"title\": [], \"publisher\": [], \"article_text\":[],\"url\":[], \"path\":[]}\n",
    "for entry_publisher in os.scandir(country_directory):\n",
    "    for entry_year in os.scandir(entry_publisher.path):\n",
    "        for entry_final in os.scandir(entry_year.path):\n",
    "            try:\n",
    "                with open(entry_final, \"r\") as f:\n",
    "                    article_id = f.readline().strip()\n",
    "                    article_title = f.readline().strip()\n",
    "                    publisher = f.readline().strip()\n",
    "                    url = f.readline()\n",
    "                    f.readline()\n",
    "                    f.readline()\n",
    "                    article_text = f.readline().strip()\n",
    "                    df_dict_country['url'].append(url)\n",
    "                    df_dict_country['id'].append(article_id)\n",
    "                    df_dict_country['title'].append(article_title)\n",
    "                    df_dict_country['publisher'].append(publisher)\n",
    "                    df_dict_country['article_text'].append(article_text)\n",
    "                    df_dict_country['path'].append(entry_final.name)\n",
    "            except:\n",
    "                pass\n",
    "end_time = datetime.datetime.now()"
   ]
  },
  {
   "cell_type": "code",
   "execution_count": 22,
   "metadata": {},
   "outputs": [
    {
     "data": {
      "text/plain": [
       "datetime.timedelta(seconds=12, microseconds=299778)"
      ]
     },
     "execution_count": 22,
     "metadata": {},
     "output_type": "execute_result"
    }
   ],
   "source": [
    "#time taken for reading one country\n",
    "end_time - start_time"
   ]
  },
  {
   "cell_type": "code",
   "execution_count": 23,
   "metadata": {},
   "outputs": [],
   "source": [
    "df_dict_country = pd.DataFrame.from_dict(df_dict_country)"
   ]
  },
  {
   "cell_type": "code",
   "execution_count": 24,
   "metadata": {},
   "outputs": [
    {
     "data": {
      "text/html": [
       "<div>\n",
       "<style scoped>\n",
       "    .dataframe tbody tr th:only-of-type {\n",
       "        vertical-align: middle;\n",
       "    }\n",
       "\n",
       "    .dataframe tbody tr th {\n",
       "        vertical-align: top;\n",
       "    }\n",
       "\n",
       "    .dataframe thead th {\n",
       "        text-align: right;\n",
       "    }\n",
       "</style>\n",
       "<table border=\"1\" class=\"dataframe\">\n",
       "  <thead>\n",
       "    <tr style=\"text-align: right;\">\n",
       "      <th></th>\n",
       "      <th>id</th>\n",
       "      <th>title</th>\n",
       "      <th>publisher</th>\n",
       "      <th>article_text</th>\n",
       "      <th>url</th>\n",
       "      <th>path</th>\n",
       "    </tr>\n",
       "  </thead>\n",
       "  <tbody>\n",
       "    <tr>\n",
       "      <th>0</th>\n",
       "      <td>4853383</td>\n",
       "      <td>Xi Jinping reminds Hong Kong, Macau are part o...</td>\n",
       "      <td>News Nation</td>\n",
       "      <td>xi jinping reminds hong kong macau part one ch...</td>\n",
       "      <td>http://www.newsnation.in/article/64386-xi-jinp...</td>\n",
       "      <td>4853383_IN_20-12-14.txt</td>\n",
       "    </tr>\n",
       "    <tr>\n",
       "      <th>1</th>\n",
       "      <td>4932562</td>\n",
       "      <td>Ramachandra Guha's new collection of essays ac...</td>\n",
       "      <td>News Nation</td>\n",
       "      <td>ramachandra guha 's new collection essay acqui...</td>\n",
       "      <td>http://www.newsnation.in/article/105187-ramach...</td>\n",
       "      <td>4932562_IN_22-12-15.txt</td>\n",
       "    </tr>\n",
       "    <tr>\n",
       "      <th>2</th>\n",
       "      <td>2133985</td>\n",
       "      <td>US strike kills head of IS in Libya: Pentagon</td>\n",
       "      <td>News Nation</td>\n",
       "      <td>u strike kill head libya pentagon head islamic...</td>\n",
       "      <td>http://www.newsnation.in/article/97317-us-stri...</td>\n",
       "      <td>2133985_IN_14-11-15.txt</td>\n",
       "    </tr>\n",
       "    <tr>\n",
       "      <th>3</th>\n",
       "      <td>4865177</td>\n",
       "      <td>Bengal hosts large percentage of country's chi...</td>\n",
       "      <td>News Nation</td>\n",
       "      <td>bengal host large percentage country 's child ...</td>\n",
       "      <td>http://www.newsnation.in/article/99561-bengal-...</td>\n",
       "      <td>4865177_IN_25-11-15.txt</td>\n",
       "    </tr>\n",
       "    <tr>\n",
       "      <th>4</th>\n",
       "      <td>2113162</td>\n",
       "      <td>AwardWapsi: Amish Tripathi, author of Shiva Tr...</td>\n",
       "      <td>News Nation</td>\n",
       "      <td>amish tripathi author shiva triology criticise...</td>\n",
       "      <td>http://www.newsnation.in/article/95663-awardwa...</td>\n",
       "      <td>2113162_IN_03-11-15.txt</td>\n",
       "    </tr>\n",
       "    <tr>\n",
       "      <th>...</th>\n",
       "      <td>...</td>\n",
       "      <td>...</td>\n",
       "      <td>...</td>\n",
       "      <td>...</td>\n",
       "      <td>...</td>\n",
       "      <td>...</td>\n",
       "    </tr>\n",
       "    <tr>\n",
       "      <th>109849</th>\n",
       "      <td>7544336</td>\n",
       "      <td>9th session of XLRI Leadership Series held</td>\n",
       "      <td>Avenue Mail</td>\n",
       "      <td>th session xlri leadership series hold jamshed...</td>\n",
       "      <td>http://www.avenuemail.in/jamshedpur/9th-sessio...</td>\n",
       "      <td>7544336_IN_06-03-16.txt</td>\n",
       "    </tr>\n",
       "    <tr>\n",
       "      <th>109850</th>\n",
       "      <td>8497487</td>\n",
       "      <td>State government committed to uplift the condi...</td>\n",
       "      <td>Avenue Mail</td>\n",
       "      <td>state government commit uplift condition poor ...</td>\n",
       "      <td>http://www.avenuemail.in/ranchi/state-govt-com...</td>\n",
       "      <td>8497487_IN_26-04-16.txt</td>\n",
       "    </tr>\n",
       "    <tr>\n",
       "      <th>109851</th>\n",
       "      <td>14207504</td>\n",
       "      <td>CM participates at Kadma Ganesh Puja, prays fo...</td>\n",
       "      <td>Avenue Mail</td>\n",
       "      <td>cm participate kadma ganesh puja prays prosper...</td>\n",
       "      <td>http://www.avenuemail.in/jamshedpur/cm-partici...</td>\n",
       "      <td>14207504_IN_05-09-16.txt</td>\n",
       "    </tr>\n",
       "    <tr>\n",
       "      <th>109852</th>\n",
       "      <td>15734846</td>\n",
       "      <td>HR conference at XLRI, Day two focuses on econ...</td>\n",
       "      <td>Avenue Mail</td>\n",
       "      <td>hr conference xlri day two focus economic impl...</td>\n",
       "      <td>http://www.avenuemail.in/jamshedpur/hr-confere...</td>\n",
       "      <td>15734846_IN_04-12-16.txt</td>\n",
       "    </tr>\n",
       "    <tr>\n",
       "      <th>109853</th>\n",
       "      <td>15854907</td>\n",
       "      <td>Mural paintings spread message of cleanliness ...</td>\n",
       "      <td>Avenue Mail</td>\n",
       "      <td>mural painting spread message cleanliness city...</td>\n",
       "      <td>http://www.avenuemail.in/jamshedpur/mural-pain...</td>\n",
       "      <td>15854907_IN_11-12-16.txt</td>\n",
       "    </tr>\n",
       "  </tbody>\n",
       "</table>\n",
       "<p>109854 rows × 6 columns</p>\n",
       "</div>"
      ],
      "text/plain": [
       "              id                                              title  \\\n",
       "0        4853383  Xi Jinping reminds Hong Kong, Macau are part o...   \n",
       "1        4932562  Ramachandra Guha's new collection of essays ac...   \n",
       "2        2133985      US strike kills head of IS in Libya: Pentagon   \n",
       "3        4865177  Bengal hosts large percentage of country's chi...   \n",
       "4        2113162  AwardWapsi: Amish Tripathi, author of Shiva Tr...   \n",
       "...          ...                                                ...   \n",
       "109849   7544336         9th session of XLRI Leadership Series held   \n",
       "109850   8497487  State government committed to uplift the condi...   \n",
       "109851  14207504  CM participates at Kadma Ganesh Puja, prays fo...   \n",
       "109852  15734846  HR conference at XLRI, Day two focuses on econ...   \n",
       "109853  15854907  Mural paintings spread message of cleanliness ...   \n",
       "\n",
       "          publisher                                       article_text  \\\n",
       "0       News Nation  xi jinping reminds hong kong macau part one ch...   \n",
       "1       News Nation  ramachandra guha 's new collection essay acqui...   \n",
       "2       News Nation  u strike kill head libya pentagon head islamic...   \n",
       "3       News Nation  bengal host large percentage country 's child ...   \n",
       "4       News Nation  amish tripathi author shiva triology criticise...   \n",
       "...             ...                                                ...   \n",
       "109849  Avenue Mail  th session xlri leadership series hold jamshed...   \n",
       "109850  Avenue Mail  state government commit uplift condition poor ...   \n",
       "109851  Avenue Mail  cm participate kadma ganesh puja prays prosper...   \n",
       "109852  Avenue Mail  hr conference xlri day two focus economic impl...   \n",
       "109853  Avenue Mail  mural painting spread message cleanliness city...   \n",
       "\n",
       "                                                      url  \\\n",
       "0       http://www.newsnation.in/article/64386-xi-jinp...   \n",
       "1       http://www.newsnation.in/article/105187-ramach...   \n",
       "2       http://www.newsnation.in/article/97317-us-stri...   \n",
       "3       http://www.newsnation.in/article/99561-bengal-...   \n",
       "4       http://www.newsnation.in/article/95663-awardwa...   \n",
       "...                                                   ...   \n",
       "109849  http://www.avenuemail.in/jamshedpur/9th-sessio...   \n",
       "109850  http://www.avenuemail.in/ranchi/state-govt-com...   \n",
       "109851  http://www.avenuemail.in/jamshedpur/cm-partici...   \n",
       "109852  http://www.avenuemail.in/jamshedpur/hr-confere...   \n",
       "109853  http://www.avenuemail.in/jamshedpur/mural-pain...   \n",
       "\n",
       "                            path  \n",
       "0        4853383_IN_20-12-14.txt  \n",
       "1        4932562_IN_22-12-15.txt  \n",
       "2        2133985_IN_14-11-15.txt  \n",
       "3        4865177_IN_25-11-15.txt  \n",
       "4        2113162_IN_03-11-15.txt  \n",
       "...                          ...  \n",
       "109849   7544336_IN_06-03-16.txt  \n",
       "109850   8497487_IN_26-04-16.txt  \n",
       "109851  14207504_IN_05-09-16.txt  \n",
       "109852  15734846_IN_04-12-16.txt  \n",
       "109853  15854907_IN_11-12-16.txt  \n",
       "\n",
       "[109854 rows x 6 columns]"
      ]
     },
     "execution_count": 24,
     "metadata": {},
     "output_type": "execute_result"
    }
   ],
   "source": [
    "df_dict_country"
   ]
  },
  {
   "cell_type": "markdown",
   "metadata": {},
   "source": [
    "## Word Frequency Analysis with visualization\n",
    "\n",
    "create_vocab_dict: creates the vocab dictionary based on the lexicons from *peace*, *conflict*, *resilence*; have only counted lexicons less than 5 words (4-gram max)\n",
    "\n",
    "word_freq: uses Countvectorizer to creates the dictionary with word counts {str(word):int(count)}\n",
    "\n",
    "plot_n_most_common_words: using the dictionary with word counts, output the graph with given integer n."
   ]
  },
  {
   "cell_type": "code",
   "execution_count": 9,
   "metadata": {},
   "outputs": [],
   "source": [
    "conflict['label'] = 'conflict'\n",
    "peace['label'] = 'peace'\n",
    "resilence['label'] = 'resilence'\n",
    "conflict = conflict.loc[:,['Term', 'label']]\n",
    "peace['Term'] = peace['academic freedom']\n",
    "peace = peace.loc[:,['Term', 'label']]\n",
    "resilence = resilence.loc[:,['Term', 'label']]\n",
    "\n",
    "vocab_df = conflict.copy()\n",
    "vocab_df = vocab_df.append(peace)\n",
    "vocab_df = vocab_df.append(resilence)\n",
    "vocab_df.index = np.arange(0, len(vocab_df))"
   ]
  },
  {
   "cell_type": "code",
   "execution_count": 10,
   "metadata": {},
   "outputs": [],
   "source": [
    "#Create dictionary for the vocab in CountVectorizer\n",
    "def create_vocab_dict(vocab_df):\n",
    "    vocabs = vocab_df.Term.str.lower()\n",
    "    vocabs = list(set(vocabs))\n",
    "    vocab_dictionary = {}\n",
    "    idx = 0\n",
    "    for vocab in vocabs:\n",
    "        voc_len = len(word_tokenize(vocab))\n",
    "        if voc_len < 5:\n",
    "            vocab_dictionary[vocab] = idx\n",
    "            idx += 1\n",
    "    return vocab_dictionary"
   ]
  },
  {
   "cell_type": "code",
   "execution_count": 15,
   "metadata": {},
   "outputs": [],
   "source": [
    "#Using Countvectorizer to count all the n-grams\n",
    "def word_freq(df, vocab_dictionary):\n",
    "    count_vectorizer = CountVectorizer(stop_words='english', ngram_range=(1,4), vocabulary= vocab_dictionary)\n",
    "    count_data = count_vectorizer.fit_transform(df.article_text)\n",
    "    words = count_vectorizer.get_feature_names()\n",
    "    total_counts = np.zeros(len(words))\n",
    "    for t in count_data:\n",
    "        total_counts += t.toarray()[0]\n",
    "  \n",
    "    count_dict = (zip(words, total_counts))\n",
    "    count_dict = sorted(count_dict, key = lambda x:x[1], reverse = True)\n",
    "\n",
    "    return count_dict"
   ]
  },
  {
   "cell_type": "code",
   "execution_count": 16,
   "metadata": {},
   "outputs": [],
   "source": [
    "def plot_n_most_common_words(count_dict, n):\n",
    "    count_dict = sorted(count_dict, key=lambda x:x[1], reverse=True)[0:n]\n",
    "    words = [w[0] for w in count_dict]\n",
    "    counts = [w[1] for w in count_dict]\n",
    "    x_pos = np.arange(len(words)) \n",
    "    plt.figure(2, figsize=(15, 15/1.6180))\n",
    "    plt.subplot(title= str(n) + ' most common words')\n",
    "    sns.set_context(\"notebook\", font_scale=1.25, rc={\"lines.linewidth\": 2.5})\n",
    "    sns.barplot(x_pos, counts, palette='husl')\n",
    "    plt.xticks(x_pos, words, rotation=90) \n",
    "    plt.xlabel('words')\n",
    "    plt.ylabel('counts')\n",
    "    plt.show()"
   ]
  },
  {
   "cell_type": "code",
   "execution_count": 17,
   "metadata": {},
   "outputs": [],
   "source": [
    "vocab_dictionary = create_vocab_dict(vocab_df)"
   ]
  },
  {
   "cell_type": "markdown",
   "metadata": {},
   "source": [
    "### Create Word Freq\n",
    "\n",
    "If you have used different columns for cleaned_text, please add another column or change the column name to text."
   ]
  },
  {
   "cell_type": "code",
   "execution_count": 26,
   "metadata": {},
   "outputs": [],
   "source": [
    "#df_dict_country['text'] = df_dict_country['article_text']\n",
    "start_time = datetime.datetime.now()\n",
    "count_dict= word_freq(df_dict_country, vocab_dictionary)\n",
    "end_time = datetime.datetime.now()"
   ]
  },
  {
   "cell_type": "code",
   "execution_count": 27,
   "metadata": {},
   "outputs": [
    {
     "data": {
      "text/plain": [
       "datetime.timedelta(seconds=77, microseconds=458448)"
      ]
     },
     "execution_count": 27,
     "metadata": {},
     "output_type": "execute_result"
    }
   ],
   "source": [
    "#Time taken for creating count_dict\n",
    "end_time - start_time"
   ]
  },
  {
   "cell_type": "code",
   "execution_count": 28,
   "metadata": {},
   "outputs": [
    {
     "data": {
      "image/png": "[encoded data removed]",
      "text/plain": [
       "<Figure size 1080x667.491 with 1 Axes>"
      ]
     },
     "metadata": {
      "needs_background": "light"
     },
     "output_type": "display_data"
    }
   ],
   "source": [
    "plot_n_most_common_words(count_dict, 10)"
   ]
  },
  {
   "cell_type": "code",
   "execution_count": null,
   "metadata": {},
   "outputs": [],
   "source": []
  }
 ],
 "metadata": {
  "kernelspec": {
   "display_name": "Python 3",
   "language": "python",
   "name": "python3"
  },
  "language_info": {
   "codemirror_mode": {
    "name": "ipython",
    "version": 3
   },
   "file_extension": ".py",
   "mimetype": "text/x-python",
   "name": "python",
   "nbconvert_exporter": "python",
   "pygments_lexer": "ipython3",
   "version": "3.7.4"
  }
 },
 "nbformat": 4,
 "nbformat_minor": 4
}

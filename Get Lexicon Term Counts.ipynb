{
 "cells": [
  {
   "cell_type": "code",
   "execution_count": 1,
   "metadata": {},
   "outputs": [
    {
     "data": {
      "text/plain": [
       "'C:\\\\Users\\\\mattb\\\\Documents\\\\GitHub\\\\peace-speech-project\\\\data\\\\clean_sample'"
      ]
     },
     "execution_count": 1,
     "metadata": {},
     "output_type": "execute_result"
    }
   ],
   "source": [
    "import os\n",
    "import pathlib\n",
    "import warnings\n",
    "warnings.filterwarnings(action=\"ignore\")\n",
    "\n",
    "import pprint\n",
    "import itertools\n",
    "from tqdm import tqdm\n",
    "\n",
    "import numpy as np\n",
    "import pandas as pd\n",
    "\n",
    "import matplotlib.pyplot as plt\n",
    "import seaborn as sns\n",
    "\n",
    "%matplotlib inline\n",
    "\n",
    "from utils.reading import read_all_files, get_text\n",
    "from utils.common import get_country_labels, get_society_label\n",
    "\n",
    "# CLEAN_DATA_FOLDER = os.path.join(\"/Users\", \"mmackenzie\", \"Data\", \"peace-speech-project\", \"clean_sample\")\n",
    "CLEAN_DATA_FOLDER = r\"C:\\Users\\mattb\\Documents\\GitHub\\peace-speech-project\\data\\clean_sample\"\n",
    "CLEAN_DATA_FOLDER"
   ]
  },
  {
   "cell_type": "code",
   "execution_count": null,
   "metadata": {},
   "outputs": [],
   "source": [
    "articles = read_all_files(path=CLEAN_DATA_FOLDER)\n",
    "articles_with_text = get_text(articles, path=CLEAN_DATA_FOLDER)"
   ]
  },
  {
   "cell_type": "code",
   "execution_count": 3,
   "metadata": {},
   "outputs": [
    {
     "name": "stdout",
     "output_type": "stream",
     "text": [
      "Wall time: 33.6 s\n"
     ]
    },
    {
     "data": {
      "text/plain": [
       "US    110197\n",
       "IN    109777\n",
       "AU    109475\n",
       "CA    109119\n",
       "GB    107366\n",
       "NZ    107278\n",
       "ZA    105460\n",
       "IE    102635\n",
       "PH     95348\n",
       "NG     79354\n",
       "MY     59589\n",
       "SG     56211\n",
       "KE     56132\n",
       "PK     55157\n",
       "JM     52523\n",
       "GH     35686\n",
       "BD     23400\n",
       "TZ     16861\n",
       "LK     14676\n",
       "HK      5069\n",
       "Name: country, dtype: int64"
      ]
     },
     "execution_count": 3,
     "metadata": {},
     "output_type": "execute_result"
    }
   ],
   "source": [
    "%%time\n",
    "\n",
    "countries = list(itertools.chain(*get_country_labels().values()))\n",
    "articles_with_text = pd.read_csv(\"data/clean_sample/all_data.csv\")\n",
    "articles_with_text = articles_with_text[~articles_with_text.text.isna()]\n",
    "articles_with_text.country.value_counts()"
   ]
  },
  {
   "cell_type": "code",
   "execution_count": 4,
   "metadata": {},
   "outputs": [
    {
     "data": {
      "text/plain": [
       "AU    109475\n",
       "CA    109119\n",
       "GB    107366\n",
       "NZ    107278\n",
       "IE    102635\n",
       "NG     79354\n",
       "SG     56211\n",
       "KE     56132\n",
       "PK     55157\n",
       "BD     23400\n",
       "TZ     16861\n",
       "Name: country, dtype: int64"
      ]
     },
     "execution_count": 4,
     "metadata": {},
     "output_type": "execute_result"
    }
   ],
   "source": [
    "country_labels = get_country_labels()\n",
    "\n",
    "articles_with_text[\"society\"] = articles_with_text.country.apply(get_society_label, country_labels=country_labels)\n",
    "# articles_with_text = articles_with_text[articles_with_text.society != \"Other\"]\n",
    "articles = articles_with_text.drop(\"text\", axis=1)\n",
    "\n",
    "articles.country.value_counts()"
   ]
  },
  {
   "cell_type": "code",
   "execution_count": 5,
   "metadata": {},
   "outputs": [
    {
     "data": {
      "text/html": [
       "<div>\n",
       "<style scoped>\n",
       "    .dataframe tbody tr th:only-of-type {\n",
       "        vertical-align: middle;\n",
       "    }\n",
       "\n",
       "    .dataframe tbody tr th {\n",
       "        vertical-align: top;\n",
       "    }\n",
       "\n",
       "    .dataframe thead th {\n",
       "        text-align: right;\n",
       "    }\n",
       "</style>\n",
       "<table border=\"1\" class=\"dataframe\">\n",
       "  <thead>\n",
       "    <tr style=\"text-align: right;\">\n",
       "      <th></th>\n",
       "      <th>term</th>\n",
       "      <th>lexicon</th>\n",
       "      <th>version</th>\n",
       "      <th>num_words</th>\n",
       "    </tr>\n",
       "  </thead>\n",
       "  <tbody>\n",
       "    <tr>\n",
       "      <th>0</th>\n",
       "      <td>academic freedom</td>\n",
       "      <td>peace</td>\n",
       "      <td>old</td>\n",
       "      <td>2</td>\n",
       "    </tr>\n",
       "    <tr>\n",
       "      <th>1</th>\n",
       "      <td>acceptance</td>\n",
       "      <td>peace</td>\n",
       "      <td>old</td>\n",
       "      <td>1</td>\n",
       "    </tr>\n",
       "    <tr>\n",
       "      <th>2</th>\n",
       "      <td>accepting</td>\n",
       "      <td>peace</td>\n",
       "      <td>old</td>\n",
       "      <td>1</td>\n",
       "    </tr>\n",
       "    <tr>\n",
       "      <th>3</th>\n",
       "      <td>active listening</td>\n",
       "      <td>peace</td>\n",
       "      <td>old</td>\n",
       "      <td>2</td>\n",
       "    </tr>\n",
       "    <tr>\n",
       "      <th>4</th>\n",
       "      <td>activism</td>\n",
       "      <td>peace</td>\n",
       "      <td>old</td>\n",
       "      <td>1</td>\n",
       "    </tr>\n",
       "    <tr>\n",
       "      <th>...</th>\n",
       "      <td>...</td>\n",
       "      <td>...</td>\n",
       "      <td>...</td>\n",
       "      <td>...</td>\n",
       "    </tr>\n",
       "    <tr>\n",
       "      <th>2363</th>\n",
       "      <td>develop</td>\n",
       "      <td>conflict</td>\n",
       "      <td>new</td>\n",
       "      <td>1</td>\n",
       "    </tr>\n",
       "    <tr>\n",
       "      <th>2364</th>\n",
       "      <td>land</td>\n",
       "      <td>conflict</td>\n",
       "      <td>new</td>\n",
       "      <td>1</td>\n",
       "    </tr>\n",
       "    <tr>\n",
       "      <th>2365</th>\n",
       "      <td>source</td>\n",
       "      <td>conflict</td>\n",
       "      <td>new</td>\n",
       "      <td>1</td>\n",
       "    </tr>\n",
       "    <tr>\n",
       "      <th>2366</th>\n",
       "      <td>attack</td>\n",
       "      <td>conflict</td>\n",
       "      <td>new</td>\n",
       "      <td>1</td>\n",
       "    </tr>\n",
       "    <tr>\n",
       "      <th>2367</th>\n",
       "      <td>challenge</td>\n",
       "      <td>conflict</td>\n",
       "      <td>new</td>\n",
       "      <td>1</td>\n",
       "    </tr>\n",
       "  </tbody>\n",
       "</table>\n",
       "<p>2368 rows × 4 columns</p>\n",
       "</div>"
      ],
      "text/plain": [
       "                  term   lexicon version  num_words\n",
       "0     academic freedom     peace     old          2\n",
       "1           acceptance     peace     old          1\n",
       "2            accepting     peace     old          1\n",
       "3     active listening     peace     old          2\n",
       "4             activism     peace     old          1\n",
       "...                ...       ...     ...        ...\n",
       "2363           develop  conflict     new          1\n",
       "2364              land  conflict     new          1\n",
       "2365            source  conflict     new          1\n",
       "2366            attack  conflict     new          1\n",
       "2367         challenge  conflict     new          1\n",
       "\n",
       "[2368 rows x 4 columns]"
      ]
     },
     "execution_count": 5,
     "metadata": {},
     "output_type": "execute_result"
    }
   ],
   "source": [
    "def read_lexicon(lexicon):\n",
    "    path = os.path.join(\"lexicons\", f\"enh_{lexicon}_lexicon.xlsx\")\n",
    "    df = pd.read_excel(path, names=[\"term\"])\n",
    "    df[\"lexicon\"] = lexicon\n",
    "    \n",
    "    return df\n",
    "\n",
    "old_lexicon = pd.concat([read_lexicon(l) for l in [\"peace\", \"conflict\", \"resilience\"]])\n",
    "old_lexicon[\"version\"] = \"old\"\n",
    "\n",
    "new_lexicon = pd.read_csv(\"lexicons/top_words_lexicon.csv\")\n",
    "new_lexicon[\"version\"] = \"new\"\n",
    "\n",
    "lexicon = pd.concat([old_lexicon, new_lexicon]).reset_index(drop=True)\n",
    "\n",
    "lexicon[\"term\"] = lexicon.term.str.lower()\n",
    "lexicon = lexicon.drop_duplicates([\"lexicon\", \"version\", \"term\"]).reset_index(drop=True)\n",
    "\n",
    "lexicon[\"num_words\"] = lexicon.term.str.split(\" \").str.len()\n",
    "lexicon.to_csv(\"lexicons/lexicon.csv\", index=False)\n",
    "\n",
    "lexicon"
   ]
  },
  {
   "cell_type": "code",
   "execution_count": 6,
   "metadata": {},
   "outputs": [
    {
     "data": {
      "text/plain": [
       "(2091,)"
      ]
     },
     "execution_count": 6,
     "metadata": {},
     "output_type": "execute_result"
    }
   ],
   "source": [
    "unique_terms = lexicon[lexicon.num_words <= 2].term.unique()\n",
    "unique_terms.shape"
   ]
  },
  {
   "cell_type": "code",
   "execution_count": 7,
   "metadata": {},
   "outputs": [],
   "source": [
    "from sklearn.feature_extraction.text import CountVectorizer\n",
    "\n",
    "cv = CountVectorizer(ngram_range=(1, 2), vocabulary=unique_terms)"
   ]
  },
  {
   "cell_type": "code",
   "execution_count": 8,
   "metadata": {},
   "outputs": [
    {
     "name": "stdout",
     "output_type": "stream",
     "text": [
      "Wall time: 6min 33s\n"
     ]
    },
    {
     "data": {
      "text/plain": [
       "<822988x2091 sparse matrix of type '<class 'numpy.int64'>'\n",
       "\twith 26514820 stored elements in Compressed Sparse Row format>"
      ]
     },
     "execution_count": 8,
     "metadata": {},
     "output_type": "execute_result"
    }
   ],
   "source": [
    "%%time\n",
    "word_counts = cv.fit_transform(articles_with_text.text)\n",
    "word_counts"
   ]
  },
  {
   "cell_type": "code",
   "execution_count": 9,
   "metadata": {},
   "outputs": [],
   "source": [
    "del articles_with_text\n",
    "# del counts_df"
   ]
  },
  {
   "cell_type": "code",
   "execution_count": 10,
   "metadata": {},
   "outputs": [
    {
     "name": "stdout",
     "output_type": "stream",
     "text": [
      "Wall time: 4.05 s\n"
     ]
    }
   ],
   "source": [
    "%%time\n",
    "counts_df =  pd.DataFrame(word_counts.todense(), columns=cv.get_feature_names())"
   ]
  },
  {
   "cell_type": "code",
   "execution_count": 11,
   "metadata": {},
   "outputs": [],
   "source": [
    "counts_df[\"society\"] = articles[\"society\"].values\n",
    "counts_df[\"country\"] = articles[\"country\"].values\n",
    "counts_df[\"year\"] = articles[\"year\"].values"
   ]
  },
  {
   "cell_type": "code",
   "execution_count": 12,
   "metadata": {},
   "outputs": [],
   "source": [
    "del articles"
   ]
  },
  {
   "cell_type": "code",
   "execution_count": 14,
   "metadata": {},
   "outputs": [],
   "source": [
    "counts_df.to_csv(\"data/word_counts_by_article.csv\", index=False)"
   ]
  },
  {
   "cell_type": "code",
   "execution_count": 13,
   "metadata": {},
   "outputs": [],
   "source": [
    "counts_df_summary = counts_df \\\n",
    "    .groupby([\"society\", \"country\", \"year\"])[cv.get_feature_names()] \\\n",
    "    .sum() \\\n",
    "    .stack() \\\n",
    "    .rename(\"n\") \\\n",
    "    .reset_index() \\\n",
    "    .rename(columns={\"level_3\": \"term\"})"
   ]
  },
  {
   "cell_type": "code",
   "execution_count": 19,
   "metadata": {},
   "outputs": [],
   "source": [
    "counts_df_summary.merge(\n",
    "    lexicon, \n",
    "    on = \"term\", \n",
    "    how = \"left\"\n",
    ").drop_duplicates().to_csv(\"lexicon_tf_by_country_year.csv\", index=False)"
   ]
  },
  {
   "cell_type": "code",
   "execution_count": 20,
   "metadata": {},
   "outputs": [
    {
     "name": "stdout",
     "output_type": "stream",
     "text": [
      "Wall time: 1min 18s\n"
     ]
    }
   ],
   "source": [
    "%%time\n",
    "corrcoef = np.corrcoef(word_counts.toarray().T)"
   ]
  },
  {
   "cell_type": "code",
   "execution_count": 32,
   "metadata": {},
   "outputs": [],
   "source": [
    "pd.DataFrame(corrcoef, columns=cv.get_feature_names(), index=cv.get_feature_names()) \\\n",
    "    .stack() \\\n",
    "    .rename(\"corr\") \\\n",
    "    .reset_index() \\\n",
    "    .rename(columns={\"level_0\": \"term1\",\n",
    "                     \"level_1\": \"term2\"}) \\\n",
    "    .query(\"term1 != term2\") \\\n",
    "    .to_csv(\"data/1m_sample_term_corr.csv\", index=False)"
   ]
  },
  {
   "cell_type": "code",
   "execution_count": null,
   "metadata": {},
   "outputs": [],
   "source": []
  }
 ],
 "metadata": {
  "kernelspec": {
   "display_name": "Python 3",
   "language": "python",
   "name": "python3"
  },
  "language_info": {
   "codemirror_mode": {
    "name": "ipython",
    "version": 3
   },
   "file_extension": ".py",
   "mimetype": "text/x-python",
   "name": "python",
   "nbconvert_exporter": "python",
   "pygments_lexer": "ipython3",
   "version": "3.8.5"
  }
 },
 "nbformat": 4,
 "nbformat_minor": 4
}

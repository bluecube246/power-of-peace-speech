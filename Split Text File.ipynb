{
 "cells": [
  {
   "cell_type": "code",
   "execution_count": 1,
   "metadata": {},
   "outputs": [],
   "source": [
    "import os\n",
    "import re\n",
    "import codecs\n",
    "import pathlib\n",
    "\n",
    "import flag\n",
    "import country_converter as coco\n",
    "\n",
    "import pandas as pd\n",
    "import numpy as np\n",
    "\n",
    "import matplotlib.pyplot as plt\n",
    "import seaborn as sns\n",
    "%matplotlib inline"
   ]
  },
  {
   "cell_type": "code",
   "execution_count": 2,
   "metadata": {},
   "outputs": [],
   "source": [
    "# import a clean function data\n",
    "def clean_text(text):\n",
    "    return text.strip()"
   ]
  },
  {
   "cell_type": "markdown",
   "metadata": {},
   "source": [
    "## Task\n",
    "\n",
    "- Split the main text.txt file into individual news report files, using the textID, the corresponding date and country for name of the news report file.\n",
    "- Create country/year folders to push each file in its proper country/year."
   ]
  },
  {
   "cell_type": "code",
   "execution_count": 3,
   "metadata": {},
   "outputs": [
    {
     "name": "stdout",
     "output_type": "stream",
     "text": [
      "(2960, 7)\n"
     ]
    },
    {
     "data": {
      "text/html": [
       "<div>\n",
       "<style scoped>\n",
       "    .dataframe tbody tr th:only-of-type {\n",
       "        vertical-align: middle;\n",
       "    }\n",
       "\n",
       "    .dataframe tbody tr th {\n",
       "        vertical-align: top;\n",
       "    }\n",
       "\n",
       "    .dataframe thead th {\n",
       "        text-align: right;\n",
       "    }\n",
       "</style>\n",
       "<table border=\"1\" class=\"dataframe\">\n",
       "  <thead>\n",
       "    <tr style=\"text-align: right;\">\n",
       "      <th></th>\n",
       "      <th>id</th>\n",
       "      <th>n_words</th>\n",
       "      <th>date</th>\n",
       "      <th>country</th>\n",
       "      <th>website</th>\n",
       "      <th>url</th>\n",
       "      <th>title</th>\n",
       "    </tr>\n",
       "  </thead>\n",
       "  <tbody>\n",
       "    <tr>\n",
       "      <th>0</th>\n",
       "      <td>11241</td>\n",
       "      <td>397</td>\n",
       "      <td>2013-01-06</td>\n",
       "      <td>US</td>\n",
       "      <td>Kotaku</td>\n",
       "      <td>http://kotaku.com/5973495/author-of-the-warrio...</td>\n",
       "      <td>Author of The Warriors, Cult Film Adapted to H...</td>\n",
       "    </tr>\n",
       "    <tr>\n",
       "      <th>1</th>\n",
       "      <td>11242</td>\n",
       "      <td>757</td>\n",
       "      <td>2013-01-06</td>\n",
       "      <td>US</td>\n",
       "      <td>Michigan Radio</td>\n",
       "      <td>http://michiganradio.org/post/thats-what-they-...</td>\n",
       "      <td>That's What They Say: Dialect Society chooses ...</td>\n",
       "    </tr>\n",
       "    <tr>\n",
       "      <th>2</th>\n",
       "      <td>11243</td>\n",
       "      <td>755</td>\n",
       "      <td>2013-01-06</td>\n",
       "      <td>US</td>\n",
       "      <td>New York Daily News</td>\n",
       "      <td>http://www.nydailynews.com/life-style/eats/bes...</td>\n",
       "      <td>Best of New York: Croissant</td>\n",
       "    </tr>\n",
       "    <tr>\n",
       "      <th>3</th>\n",
       "      <td>11244</td>\n",
       "      <td>1677</td>\n",
       "      <td>2013-01-06</td>\n",
       "      <td>US</td>\n",
       "      <td>OregonLive.com</td>\n",
       "      <td>http://www.oregonlive.com/performance/index.ss...</td>\n",
       "      <td>Reflecting on a quarter-century of growth in P...</td>\n",
       "    </tr>\n",
       "    <tr>\n",
       "      <th>4</th>\n",
       "      <td>21242</td>\n",
       "      <td>794</td>\n",
       "      <td>2013-01-11</td>\n",
       "      <td>US</td>\n",
       "      <td>Ars Technica</td>\n",
       "      <td>http://arstechnica.com/gadgets/2013/01/ask-ars...</td>\n",
       "      <td>Ask Ars: Does Facebook auto-delete content aft...</td>\n",
       "    </tr>\n",
       "  </tbody>\n",
       "</table>\n",
       "</div>"
      ],
      "text/plain": [
       "      id  n_words       date country              website  \\\n",
       "0  11241      397 2013-01-06      US               Kotaku   \n",
       "1  11242      757 2013-01-06      US       Michigan Radio   \n",
       "2  11243      755 2013-01-06      US  New York Daily News   \n",
       "3  11244     1677 2013-01-06      US       OregonLive.com   \n",
       "4  21242      794 2013-01-11      US         Ars Technica   \n",
       "\n",
       "                                                 url  \\\n",
       "0  http://kotaku.com/5973495/author-of-the-warrio...   \n",
       "1  http://michiganradio.org/post/thats-what-they-...   \n",
       "2  http://www.nydailynews.com/life-style/eats/bes...   \n",
       "3  http://www.oregonlive.com/performance/index.ss...   \n",
       "4  http://arstechnica.com/gadgets/2013/01/ask-ars...   \n",
       "\n",
       "                                               title  \n",
       "0  Author of The Warriors, Cult Film Adapted to H...  \n",
       "1  That's What They Say: Dialect Society chooses ...  \n",
       "2                        Best of New York: Croissant  \n",
       "3  Reflecting on a quarter-century of growth in P...  \n",
       "4  Ask Ars: Does Facebook auto-delete content aft...  "
      ]
     },
     "execution_count": 3,
     "metadata": {},
     "output_type": "execute_result"
    }
   ],
   "source": [
    "# read in sources data\n",
    "# data is separated by 1 or 2 tabs. \n",
    "sources = pd.read_csv(\"data/raw/sources.txt\", \n",
    "                      sep=\"\\t{1,2}\", encoding=\"ISO-8859-1\", skiprows=2, engine='python')\n",
    "\n",
    "# rename columns\n",
    "sources.columns = [\"id\", \"n_words\", \"date\", \"country\", \"website\", \"url\", \"title\"]\n",
    "\n",
    "# date column -> pandas.DateTime\n",
    "sources[\"date\"] = pd.to_datetime(sources[\"date\"], format=\"%y-%m-%d\")\n",
    "\n",
    "print(sources.shape)\n",
    "sources.head()"
   ]
  },
  {
   "cell_type": "code",
   "execution_count": 4,
   "metadata": {},
   "outputs": [
    {
     "name": "stdout",
     "output_type": "stream",
     "text": [
      "(2914, 2)\n"
     ]
    },
    {
     "data": {
      "text/html": [
       "<div>\n",
       "<style scoped>\n",
       "    .dataframe tbody tr th:only-of-type {\n",
       "        vertical-align: middle;\n",
       "    }\n",
       "\n",
       "    .dataframe tbody tr th {\n",
       "        vertical-align: top;\n",
       "    }\n",
       "\n",
       "    .dataframe thead th {\n",
       "        text-align: right;\n",
       "    }\n",
       "</style>\n",
       "<table border=\"1\" class=\"dataframe\">\n",
       "  <thead>\n",
       "    <tr style=\"text-align: right;\">\n",
       "      <th></th>\n",
       "      <th>id</th>\n",
       "      <th>text</th>\n",
       "    </tr>\n",
       "  </thead>\n",
       "  <tbody>\n",
       "    <tr>\n",
       "      <th>0</th>\n",
       "      <td>11241</td>\n",
       "      <td>sol yurick , the writer whose 1965 novel \" the...</td>\n",
       "    </tr>\n",
       "    <tr>\n",
       "      <th>1</th>\n",
       "      <td>11242</td>\n",
       "      <td>that 's what they say : dialect society choose...</td>\n",
       "    </tr>\n",
       "    <tr>\n",
       "      <th>2</th>\n",
       "      <td>11243</td>\n",
       "      <td>a sublime croissant at french tart in grant ci...</td>\n",
       "    </tr>\n",
       "    <tr>\n",
       "      <th>3</th>\n",
       "      <td>11244</td>\n",
       "      <td>reflecting on a quarter-century of growth in p...</td>\n",
       "    </tr>\n",
       "    <tr>\n",
       "      <th>4</th>\n",
       "      <td>21242</td>\n",
       "      <td>ask ars : does facebook auto-delete content af...</td>\n",
       "    </tr>\n",
       "  </tbody>\n",
       "</table>\n",
       "</div>"
      ],
      "text/plain": [
       "      id                                               text\n",
       "0  11241  sol yurick , the writer whose 1965 novel \" the...\n",
       "1  11242  that 's what they say : dialect society choose...\n",
       "2  11243  a sublime croissant at french tart in grant ci...\n",
       "3  11244  reflecting on a quarter-century of growth in p...\n",
       "4  21242  ask ars : does facebook auto-delete content af..."
      ]
     },
     "execution_count": 4,
     "metadata": {},
     "output_type": "execute_result"
    }
   ],
   "source": [
    "# read in text data\n",
    "# find lines that start with @@, extract id and text from them\n",
    "with open(\"data/raw/text.txt\", \"r\") as f:\n",
    "    text = pd.DataFrame(\n",
    "        [re.search(\"(\\d+)\\s(.*)\", l[2:]).groups() for l in f.readlines() if l.startswith(\"@@\")],\n",
    "        columns=[\"id\", \"text\"]\n",
    "    )\n",
    "    f.close()\n",
    "\n",
    "# id should be an integer\n",
    "text[\"id\"] = text[\"id\"].astype(int)\n",
    "\n",
    "# clean text here\n",
    "text[\"text\"] = text[\"text\"].apply(clean_text)\n",
    "text['text'] = text.text.str.replace('<[^<]+?>', '')\n",
    "text['text'] = text.text.str.replace(\"\\n\", '')\n",
    "text['text'] = text.text.str.replace(\"@ @ @ @ @ @ @ @ @ @ \", '')\n",
    "text['text'] = text.text.replace(\" '\", \"'\")\n",
    "text['text'] = text.text.replace(\" '\", \"'\")\n",
    "text['text'] = text.text.replace(\" .\", \".\")\n",
    "text['text'] = text.text.replace(\" ,\", \",\")\n",
    "text['text'] = text.text.replace(\"  \", \"\")\n",
    "text['text'] = text.text.replace(\" n't\", \"n't\")\n",
    "text['text'] = text.text.str.lower()\n",
    "text[\"text\"] = text[\"text\"].apply(clean_text)\n",
    "print(text.shape)\n",
    "text.head()"
   ]
  },
  {
   "cell_type": "code",
   "execution_count": 5,
   "metadata": {},
   "outputs": [],
   "source": [
    "# combine the data\n",
    "reports = sources.merge(text, on=\"id\", how=\"outer\")\n",
    "reports[\"year\"] = reports[\"date\"].dt.strftime(\"%Y\")"
   ]
  },
  {
   "cell_type": "code",
   "execution_count": 6,
   "metadata": {},
   "outputs": [
    {
     "ename": "AttributeError",
     "evalue": "module 'flag' has no attribute 'flag'",
     "output_type": "error",
     "traceback": [
      "\u001b[0;31m---------------------------------------------------------------------------\u001b[0m",
      "\u001b[0;31mAttributeError\u001b[0m                            Traceback (most recent call last)",
      "\u001b[0;32m<ipython-input-6-e45fe3ec15c3>\u001b[0m in \u001b[0;36m<module>\u001b[0;34m\u001b[0m\n\u001b[1;32m      5\u001b[0m \u001b[0;32mfor\u001b[0m \u001b[0mcountry\u001b[0m \u001b[0;32min\u001b[0m \u001b[0;34m[\u001b[0m\u001b[0mx\u001b[0m \u001b[0;32mfor\u001b[0m \u001b[0mx\u001b[0m \u001b[0;32min\u001b[0m \u001b[0mreports\u001b[0m\u001b[0;34m.\u001b[0m\u001b[0mcountry\u001b[0m\u001b[0;34m.\u001b[0m\u001b[0munique\u001b[0m\u001b[0;34m(\u001b[0m\u001b[0;34m)\u001b[0m\u001b[0;34m.\u001b[0m\u001b[0mtolist\u001b[0m\u001b[0;34m(\u001b[0m\u001b[0;34m)\u001b[0m \u001b[0;32mif\u001b[0m \u001b[0mstr\u001b[0m\u001b[0;34m(\u001b[0m\u001b[0mx\u001b[0m\u001b[0;34m)\u001b[0m \u001b[0;34m!=\u001b[0m \u001b[0;34m'nan'\u001b[0m\u001b[0;34m]\u001b[0m \u001b[0;34m:\u001b[0m\u001b[0;34m\u001b[0m\u001b[0;34m\u001b[0m\u001b[0m\n\u001b[1;32m      6\u001b[0m     \u001b[0;32mif\u001b[0m \u001b[0mcountry\u001b[0m\u001b[0;34m:\u001b[0m\u001b[0;34m\u001b[0m\u001b[0;34m\u001b[0m\u001b[0m\n\u001b[0;32m----> 7\u001b[0;31m         \u001b[0mprint\u001b[0m\u001b[0;34m(\u001b[0m\u001b[0mflag\u001b[0m\u001b[0;34m.\u001b[0m\u001b[0mflag\u001b[0m\u001b[0;34m(\u001b[0m\u001b[0mcountry\u001b[0m\u001b[0;34m)\u001b[0m\u001b[0;34m,\u001b[0m \u001b[0mcountry\u001b[0m\u001b[0;34m,\u001b[0m \u001b[0;34m'| total counts: '\u001b[0m\u001b[0;34m,\u001b[0m\u001b[0mval_counts\u001b[0m\u001b[0;34m[\u001b[0m\u001b[0mcountry\u001b[0m\u001b[0;34m]\u001b[0m\u001b[0;34m,\u001b[0m \u001b[0;34m' | '\u001b[0m\u001b[0;34m,\u001b[0m \u001b[0mcoco\u001b[0m\u001b[0;34m.\u001b[0m\u001b[0mconvert\u001b[0m\u001b[0;34m(\u001b[0m\u001b[0mnames\u001b[0m\u001b[0;34m=\u001b[0m\u001b[0mcountry\u001b[0m\u001b[0;34m,\u001b[0m \u001b[0mto\u001b[0m\u001b[0;34m=\u001b[0m\u001b[0;34m'name_short'\u001b[0m\u001b[0;34m)\u001b[0m\u001b[0;34m,\u001b[0m \u001b[0;34m)\u001b[0m\u001b[0;34m\u001b[0m\u001b[0;34m\u001b[0m\u001b[0m\n\u001b[0m",
      "\u001b[0;31mAttributeError\u001b[0m: module 'flag' has no attribute 'flag'"
     ]
    }
   ],
   "source": [
    "#Total Articles per country with Flags\n",
    "cc = coco.CountryConverter()\n",
    "val_counts = reports.country.value_counts()\n",
    "\n",
    "for country in [x for x in reports.country.unique().tolist() if str(x) != 'nan'] :\n",
    "    if country:\n",
    "        print(flag.flag(country), country, '| total counts: ',val_counts[country], ' | ', coco.convert(names=country, to='name_short'), )"
   ]
  },
  {
   "cell_type": "code",
   "execution_count": 7,
   "metadata": {},
   "outputs": [
    {
     "data": {
      "image/png": "[encoded data removed]",
      "text/plain": [
       "<Figure size 1440x576 with 1 Axes>"
      ]
     },
     "metadata": {
      "needs_background": "light"
     },
     "output_type": "display_data"
    }
   ],
   "source": [
    "groups = reports.groupby([\"country\", \"year\"]).id.count().to_frame().reset_index()\n",
    "\n",
    "fig, ax = plt.subplots(figsize=(20, 8))\n",
    "sns.barplot(\n",
    "    x=\"country\", \n",
    "    y=\"id\", \n",
    "    hue=\"year\",\n",
    "    data=groups,\n",
    "    ax=ax\n",
    ")\n",
    "\n",
    "ax.set_xlabel(\"Country\", fontsize=16)\n",
    "ax.set_ylabel(\"Number of Reports\", fontsize=16)\n",
    "ax.set_title(\"Number of Reports per Country per Year\", fontsize=22)\n",
    "\n",
    "ax.tick_params(axis='both', which='major', labelsize=13)\n",
    "ax.legend(loc='center left', bbox_to_anchor=(1, 0.5), fontsize=12);"
   ]
  },
  {
   "cell_type": "code",
   "execution_count": 8,
   "metadata": {},
   "outputs": [
    {
     "data": {
      "image/png": "[encoded data removed]",
      "text/plain": [
       "<Figure size 1440x576 with 1 Axes>"
      ]
     },
     "metadata": {
      "needs_background": "light"
     },
     "output_type": "display_data"
    }
   ],
   "source": [
    "words_per_year = reports[['n_words','year','country']].groupby(['country','year']).sum().reset_index()\n",
    "\n",
    "fig, ax = plt.subplots(figsize=(20, 8))\n",
    "sns.barplot(\n",
    "    x=\"country\", \n",
    "    y=\"n_words\", \n",
    "    hue=\"year\",\n",
    "    data=words_per_year,\n",
    "    ax=ax\n",
    ")\n",
    "ax.set_xlabel(\"Country\", fontsize=16)\n",
    "ax.set_ylabel(\"Number of Words\", fontsize=16)\n",
    "ax.set_title(\"Number of Words per Country per Year\", fontsize=22)\n",
    "\n",
    "ax.tick_params(axis='both', which='major', labelsize=13)\n",
    "ax.legend(loc='center left', bbox_to_anchor=(1, 0.5), fontsize=12);"
   ]
  },
  {
   "cell_type": "markdown",
   "metadata": {},
   "source": [
    "Example, news report with textID 11241:\n",
    "- pushed to a file with name 11241_US_13-01-06.txt. \n",
    "- 11241_US_13-01-06.txt should be in the US/2006 folder. "
   ]
  },
  {
   "cell_type": "code",
   "execution_count": 9,
   "metadata": {},
   "outputs": [],
   "source": [
    "def get_report_folder(report: pd.Series) -> str:\n",
    "    \"\"\"Get the folder a report belongs in as COUNTRY/YEAR\"\"\"\n",
    "    if not pd.isna(report.date):\n",
    "        year = report.date.strftime(\"%Y\")\n",
    "        return f\"{report.country}/{year}\"\n",
    "    else:\n",
    "        return f\"{report.country}\"\n",
    "\n",
    "def get_report_name(report: pd.Series) -> str:\n",
    "    \"\"\"Get the file name for a report as ID_COUNTRY_DATE.txt\"\"\"\n",
    "    if not pd.isna(report.date):\n",
    "        date_string = report.date.strftime(\"%d-%m-%y\")\n",
    "        return f\"{report.id}_{report.country}_{date_string}.txt\"\n",
    "    else:\n",
    "        return f\"{report.id}_{report.country}.txt\"\n",
    "\n",
    "def export_report(report: pd.Series, path=None) -> str:\n",
    "    \"\"\"Export a report to the correct folder with the correct name\n",
    "    \n",
    "    Keyword Arguments:\n",
    "        path {str, optional}: a parent path to the folder. The directory you want the data all saved to.\n",
    "        \n",
    "    Returns:\n",
    "        the output path FOLDER/FILE.txt, excluding the path argument.\n",
    "    \"\"\"\n",
    "    folder = get_report_folder(report)\n",
    "    file = get_report_name(report)\n",
    "    \n",
    "    full_path = f\"{path + '/' if path else ''}{folder}\"\n",
    "    # create the folder, if it doesn't already exist\n",
    "    pathlib.Path(full_path).mkdir(parents=True, exist_ok=True)\n",
    "    \n",
    "    # write the file\n",
    "    with codecs.open(f\"{full_path}/{file}\", \"w\", \"ISO-8859-1\") as f:\n",
    "        if not pd.isna(report.text):\n",
    "            title = report.title if not pd.isna(report.title) else \"\"\n",
    "            url = report.url if not pd.isna(report.url) else \"\"\n",
    "            f.writelines([title, \"\\n\", url, \"\\n\\n\", report.text])\n",
    "        f.close()\n",
    "    \n",
    "    return f\"{folder}/{file}\""
   ]
  },
  {
   "cell_type": "code",
   "execution_count": 10,
   "metadata": {},
   "outputs": [
    {
     "data": {
      "text/html": [
       "<div>\n",
       "<style scoped>\n",
       "    .dataframe tbody tr th:only-of-type {\n",
       "        vertical-align: middle;\n",
       "    }\n",
       "\n",
       "    .dataframe tbody tr th {\n",
       "        vertical-align: top;\n",
       "    }\n",
       "\n",
       "    .dataframe thead th {\n",
       "        text-align: right;\n",
       "    }\n",
       "</style>\n",
       "<table border=\"1\" class=\"dataframe\">\n",
       "  <thead>\n",
       "    <tr style=\"text-align: right;\">\n",
       "      <th></th>\n",
       "      <th>id</th>\n",
       "      <th>n_words</th>\n",
       "      <th>date</th>\n",
       "      <th>country</th>\n",
       "      <th>website</th>\n",
       "      <th>url</th>\n",
       "      <th>title</th>\n",
       "      <th>text</th>\n",
       "      <th>year</th>\n",
       "      <th>export_folder</th>\n",
       "    </tr>\n",
       "  </thead>\n",
       "  <tbody>\n",
       "    <tr>\n",
       "      <th>0</th>\n",
       "      <td>11241</td>\n",
       "      <td>397.0</td>\n",
       "      <td>2013-01-06</td>\n",
       "      <td>US</td>\n",
       "      <td>Kotaku</td>\n",
       "      <td>http://kotaku.com/5973495/author-of-the-warrio...</td>\n",
       "      <td>Author of The Warriors, Cult Film Adapted to H...</td>\n",
       "      <td>sol yurick , the writer whose 1965 novel \" the...</td>\n",
       "      <td>2013</td>\n",
       "      <td>US/2013/11241_US_06-01-13.txt</td>\n",
       "    </tr>\n",
       "    <tr>\n",
       "      <th>1</th>\n",
       "      <td>11242</td>\n",
       "      <td>757.0</td>\n",
       "      <td>2013-01-06</td>\n",
       "      <td>US</td>\n",
       "      <td>Michigan Radio</td>\n",
       "      <td>http://michiganradio.org/post/thats-what-they-...</td>\n",
       "      <td>That's What They Say: Dialect Society chooses ...</td>\n",
       "      <td>that 's what they say : dialect society choose...</td>\n",
       "      <td>2013</td>\n",
       "      <td>US/2013/11242_US_06-01-13.txt</td>\n",
       "    </tr>\n",
       "    <tr>\n",
       "      <th>2</th>\n",
       "      <td>11243</td>\n",
       "      <td>755.0</td>\n",
       "      <td>2013-01-06</td>\n",
       "      <td>US</td>\n",
       "      <td>New York Daily News</td>\n",
       "      <td>http://www.nydailynews.com/life-style/eats/bes...</td>\n",
       "      <td>Best of New York: Croissant</td>\n",
       "      <td>a sublime croissant at french tart in grant ci...</td>\n",
       "      <td>2013</td>\n",
       "      <td>US/2013/11243_US_06-01-13.txt</td>\n",
       "    </tr>\n",
       "    <tr>\n",
       "      <th>3</th>\n",
       "      <td>11244</td>\n",
       "      <td>1677.0</td>\n",
       "      <td>2013-01-06</td>\n",
       "      <td>US</td>\n",
       "      <td>OregonLive.com</td>\n",
       "      <td>http://www.oregonlive.com/performance/index.ss...</td>\n",
       "      <td>Reflecting on a quarter-century of growth in P...</td>\n",
       "      <td>reflecting on a quarter-century of growth in p...</td>\n",
       "      <td>2013</td>\n",
       "      <td>US/2013/11244_US_06-01-13.txt</td>\n",
       "    </tr>\n",
       "    <tr>\n",
       "      <th>4</th>\n",
       "      <td>21242</td>\n",
       "      <td>794.0</td>\n",
       "      <td>2013-01-11</td>\n",
       "      <td>US</td>\n",
       "      <td>Ars Technica</td>\n",
       "      <td>http://arstechnica.com/gadgets/2013/01/ask-ars...</td>\n",
       "      <td>Ask Ars: Does Facebook auto-delete content aft...</td>\n",
       "      <td>ask ars : does facebook auto-delete content af...</td>\n",
       "      <td>2013</td>\n",
       "      <td>US/2013/21242_US_11-01-13.txt</td>\n",
       "    </tr>\n",
       "    <tr>\n",
       "      <th>...</th>\n",
       "      <td>...</td>\n",
       "      <td>...</td>\n",
       "      <td>...</td>\n",
       "      <td>...</td>\n",
       "      <td>...</td>\n",
       "      <td>...</td>\n",
       "      <td>...</td>\n",
       "      <td>...</td>\n",
       "      <td>...</td>\n",
       "      <td>...</td>\n",
       "    </tr>\n",
       "    <tr>\n",
       "      <th>3005</th>\n",
       "      <td>15031244</td>\n",
       "      <td>NaN</td>\n",
       "      <td>NaT</td>\n",
       "      <td>NaN</td>\n",
       "      <td>NaN</td>\n",
       "      <td>NaN</td>\n",
       "      <td>NaN</td>\n",
       "      <td>india continued to tear into pakistan in the g...</td>\n",
       "      <td>NaN</td>\n",
       "      <td>nan/15031244_nan.txt</td>\n",
       "    </tr>\n",
       "    <tr>\n",
       "      <th>3006</th>\n",
       "      <td>15171241</td>\n",
       "      <td>NaN</td>\n",
       "      <td>NaT</td>\n",
       "      <td>NaN</td>\n",
       "      <td>NaN</td>\n",
       "      <td>NaN</td>\n",
       "      <td>NaN</td>\n",
       "      <td>president john dramani mahama has reminded his...</td>\n",
       "      <td>NaN</td>\n",
       "      <td>nan/15171241_nan.txt</td>\n",
       "    </tr>\n",
       "    <tr>\n",
       "      <th>3007</th>\n",
       "      <td>15171242</td>\n",
       "      <td>NaN</td>\n",
       "      <td>NaT</td>\n",
       "      <td>NaN</td>\n",
       "      <td>NaN</td>\n",
       "      <td>NaN</td>\n",
       "      <td>NaN</td>\n",
       "      <td>list of 23 ndc members expelled for going inde...</td>\n",
       "      <td>NaN</td>\n",
       "      <td>nan/15171242_nan.txt</td>\n",
       "    </tr>\n",
       "    <tr>\n",
       "      <th>3008</th>\n",
       "      <td>15171243</td>\n",
       "      <td>NaN</td>\n",
       "      <td>NaT</td>\n",
       "      <td>NaN</td>\n",
       "      <td>NaN</td>\n",
       "      <td>NaN</td>\n",
       "      <td>NaN</td>\n",
       "      <td>messi should not captain argentina - passarell...</td>\n",
       "      <td>NaN</td>\n",
       "      <td>nan/15171243_nan.txt</td>\n",
       "    </tr>\n",
       "    <tr>\n",
       "      <th>3009</th>\n",
       "      <td>15171244</td>\n",
       "      <td>NaN</td>\n",
       "      <td>NaT</td>\n",
       "      <td>NaN</td>\n",
       "      <td>NaN</td>\n",
       "      <td>NaN</td>\n",
       "      <td>NaN</td>\n",
       "      <td>mahama criticism of npp promises hypocritical ...</td>\n",
       "      <td>NaN</td>\n",
       "      <td>nan/15171244_nan.txt</td>\n",
       "    </tr>\n",
       "  </tbody>\n",
       "</table>\n",
       "<p>3010 rows × 10 columns</p>\n",
       "</div>"
      ],
      "text/plain": [
       "            id  n_words       date country              website  \\\n",
       "0        11241    397.0 2013-01-06      US               Kotaku   \n",
       "1        11242    757.0 2013-01-06      US       Michigan Radio   \n",
       "2        11243    755.0 2013-01-06      US  New York Daily News   \n",
       "3        11244   1677.0 2013-01-06      US       OregonLive.com   \n",
       "4        21242    794.0 2013-01-11      US         Ars Technica   \n",
       "...        ...      ...        ...     ...                  ...   \n",
       "3005  15031244      NaN        NaT     NaN                  NaN   \n",
       "3006  15171241      NaN        NaT     NaN                  NaN   \n",
       "3007  15171242      NaN        NaT     NaN                  NaN   \n",
       "3008  15171243      NaN        NaT     NaN                  NaN   \n",
       "3009  15171244      NaN        NaT     NaN                  NaN   \n",
       "\n",
       "                                                    url  \\\n",
       "0     http://kotaku.com/5973495/author-of-the-warrio...   \n",
       "1     http://michiganradio.org/post/thats-what-they-...   \n",
       "2     http://www.nydailynews.com/life-style/eats/bes...   \n",
       "3     http://www.oregonlive.com/performance/index.ss...   \n",
       "4     http://arstechnica.com/gadgets/2013/01/ask-ars...   \n",
       "...                                                 ...   \n",
       "3005                                                NaN   \n",
       "3006                                                NaN   \n",
       "3007                                                NaN   \n",
       "3008                                                NaN   \n",
       "3009                                                NaN   \n",
       "\n",
       "                                                  title  \\\n",
       "0     Author of The Warriors, Cult Film Adapted to H...   \n",
       "1     That's What They Say: Dialect Society chooses ...   \n",
       "2                           Best of New York: Croissant   \n",
       "3     Reflecting on a quarter-century of growth in P...   \n",
       "4     Ask Ars: Does Facebook auto-delete content aft...   \n",
       "...                                                 ...   \n",
       "3005                                                NaN   \n",
       "3006                                                NaN   \n",
       "3007                                                NaN   \n",
       "3008                                                NaN   \n",
       "3009                                                NaN   \n",
       "\n",
       "                                                   text  year  \\\n",
       "0     sol yurick , the writer whose 1965 novel \" the...  2013   \n",
       "1     that 's what they say : dialect society choose...  2013   \n",
       "2     a sublime croissant at french tart in grant ci...  2013   \n",
       "3     reflecting on a quarter-century of growth in p...  2013   \n",
       "4     ask ars : does facebook auto-delete content af...  2013   \n",
       "...                                                 ...   ...   \n",
       "3005  india continued to tear into pakistan in the g...   NaN   \n",
       "3006  president john dramani mahama has reminded his...   NaN   \n",
       "3007  list of 23 ndc members expelled for going inde...   NaN   \n",
       "3008  messi should not captain argentina - passarell...   NaN   \n",
       "3009  mahama criticism of npp promises hypocritical ...   NaN   \n",
       "\n",
       "                      export_folder  \n",
       "0     US/2013/11241_US_06-01-13.txt  \n",
       "1     US/2013/11242_US_06-01-13.txt  \n",
       "2     US/2013/11243_US_06-01-13.txt  \n",
       "3     US/2013/11244_US_06-01-13.txt  \n",
       "4     US/2013/21242_US_11-01-13.txt  \n",
       "...                             ...  \n",
       "3005           nan/15031244_nan.txt  \n",
       "3006           nan/15171241_nan.txt  \n",
       "3007           nan/15171242_nan.txt  \n",
       "3008           nan/15171243_nan.txt  \n",
       "3009           nan/15171244_nan.txt  \n",
       "\n",
       "[3010 rows x 10 columns]"
      ]
     },
     "execution_count": 10,
     "metadata": {},
     "output_type": "execute_result"
    }
   ],
   "source": [
    "reports[\"export_folder\"] = reports.apply(export_report, axis=1, path=\"data/clean\")\n",
    "\n",
    "reports.to_csv(\"data/clean/all_reports.csv\", index=False)\n",
    "reports"
   ]
  },
  {
   "cell_type": "markdown",
   "metadata": {},
   "source": [
    "-----------------------------------------"
   ]
  },
  {
   "cell_type": "code",
   "execution_count": 20,
   "metadata": {},
   "outputs": [],
   "source": [
    "BBC_df = reports[reports['website'] == 'BBC News']"
   ]
  },
  {
   "cell_type": "code",
   "execution_count": 21,
   "metadata": {},
   "outputs": [
    {
     "name": "stderr",
     "output_type": "stream",
     "text": [
      "/Users/leo/opt/anaconda3/lib/python3.7/site-packages/ipykernel_launcher.py:1: SettingWithCopyWarning: \n",
      "A value is trying to be set on a copy of a slice from a DataFrame.\n",
      "Try using .loc[row_indexer,col_indexer] = value instead\n",
      "\n",
      "See the caveats in the documentation: https://pandas.pydata.org/pandas-docs/stable/user_guide/indexing.html#returning-a-view-versus-a-copy\n",
      "  \"\"\"Entry point for launching an IPython kernel.\n"
     ]
    }
   ],
   "source": [
    "BBC_df['vector'] = BBC_df['text'].str.lower().str.split()"
   ]
  },
  {
   "cell_type": "code",
   "execution_count": 23,
   "metadata": {},
   "outputs": [],
   "source": [
    "from nltk.corpus import stopwords\n",
    "stop = stopwords.words('english')"
   ]
  },
  {
   "cell_type": "code",
   "execution_count": 26,
   "metadata": {},
   "outputs": [
    {
     "name": "stdout",
     "output_type": "stream",
     "text": [
      "!\"#$%&'()*+,-./:;<=>?@[\\]^_`{|}~\n"
     ]
    }
   ],
   "source": [
    "import string\n",
    "print(string.punctuation)"
   ]
  },
  {
   "cell_type": "code",
   "execution_count": 27,
   "metadata": {},
   "outputs": [
    {
     "name": "stderr",
     "output_type": "stream",
     "text": [
      "/Users/leo/opt/anaconda3/lib/python3.7/site-packages/ipykernel_launcher.py:1: SettingWithCopyWarning: \n",
      "A value is trying to be set on a copy of a slice from a DataFrame.\n",
      "Try using .loc[row_indexer,col_indexer] = value instead\n",
      "\n",
      "See the caveats in the documentation: https://pandas.pydata.org/pandas-docs/stable/user_guide/indexing.html#returning-a-view-versus-a-copy\n",
      "  \"\"\"Entry point for launching an IPython kernel.\n"
     ]
    }
   ],
   "source": [
    "BBC_df['vector'] = BBC_df['vector'].apply(lambda x: [item for item in x if item not in stop])"
   ]
  },
  {
   "cell_type": "code",
   "execution_count": 30,
   "metadata": {},
   "outputs": [
    {
     "ename": "AttributeError",
     "evalue": "'list' object has no attribute 'lower'",
     "output_type": "error",
     "traceback": [
      "\u001b[0;31m---------------------------------------------------------------------------\u001b[0m",
      "\u001b[0;31mAttributeError\u001b[0m                            Traceback (most recent call last)",
      "\u001b[0;32m<ipython-input-30-c43ac3527506>\u001b[0m in \u001b[0;36m<module>\u001b[0;34m\u001b[0m\n\u001b[1;32m      1\u001b[0m \u001b[0;32mfrom\u001b[0m \u001b[0msklearn\u001b[0m\u001b[0;34m.\u001b[0m\u001b[0mfeature_extraction\u001b[0m\u001b[0;34m.\u001b[0m\u001b[0mtext\u001b[0m \u001b[0;32mimport\u001b[0m \u001b[0mTfidfVectorizer\u001b[0m\u001b[0;34m\u001b[0m\u001b[0;34m\u001b[0m\u001b[0m\n\u001b[1;32m      2\u001b[0m \u001b[0mvectorizer\u001b[0m \u001b[0;34m=\u001b[0m \u001b[0mTfidfVectorizer\u001b[0m\u001b[0;34m(\u001b[0m\u001b[0;34m)\u001b[0m\u001b[0;34m\u001b[0m\u001b[0;34m\u001b[0m\u001b[0m\n\u001b[0;32m----> 3\u001b[0;31m \u001b[0mX\u001b[0m \u001b[0;34m=\u001b[0m \u001b[0mvectorizer\u001b[0m\u001b[0;34m.\u001b[0m\u001b[0mfit_transform\u001b[0m\u001b[0;34m(\u001b[0m\u001b[0mBBC_df\u001b[0m\u001b[0;34m[\u001b[0m\u001b[0;34m'vector'\u001b[0m\u001b[0;34m]\u001b[0m\u001b[0;34m)\u001b[0m\u001b[0;34m\u001b[0m\u001b[0;34m\u001b[0m\u001b[0m\n\u001b[0m\u001b[1;32m      4\u001b[0m \u001b[0mprint\u001b[0m\u001b[0;34m(\u001b[0m\u001b[0mvectorizer\u001b[0m\u001b[0;34m.\u001b[0m\u001b[0mget_feature_names\u001b[0m\u001b[0;34m(\u001b[0m\u001b[0;34m)\u001b[0m\u001b[0;34m)\u001b[0m\u001b[0;34m\u001b[0m\u001b[0;34m\u001b[0m\u001b[0m\n",
      "\u001b[0;32m~/opt/anaconda3/lib/python3.7/site-packages/sklearn/feature_extraction/text.py\u001b[0m in \u001b[0;36mfit_transform\u001b[0;34m(self, raw_documents, y)\u001b[0m\n\u001b[1;32m   1857\u001b[0m         \"\"\"\n\u001b[1;32m   1858\u001b[0m         \u001b[0mself\u001b[0m\u001b[0;34m.\u001b[0m\u001b[0m_check_params\u001b[0m\u001b[0;34m(\u001b[0m\u001b[0;34m)\u001b[0m\u001b[0;34m\u001b[0m\u001b[0;34m\u001b[0m\u001b[0m\n\u001b[0;32m-> 1859\u001b[0;31m         \u001b[0mX\u001b[0m \u001b[0;34m=\u001b[0m \u001b[0msuper\u001b[0m\u001b[0;34m(\u001b[0m\u001b[0;34m)\u001b[0m\u001b[0;34m.\u001b[0m\u001b[0mfit_transform\u001b[0m\u001b[0;34m(\u001b[0m\u001b[0mraw_documents\u001b[0m\u001b[0;34m)\u001b[0m\u001b[0;34m\u001b[0m\u001b[0;34m\u001b[0m\u001b[0m\n\u001b[0m\u001b[1;32m   1860\u001b[0m         \u001b[0mself\u001b[0m\u001b[0;34m.\u001b[0m\u001b[0m_tfidf\u001b[0m\u001b[0;34m.\u001b[0m\u001b[0mfit\u001b[0m\u001b[0;34m(\u001b[0m\u001b[0mX\u001b[0m\u001b[0;34m)\u001b[0m\u001b[0;34m\u001b[0m\u001b[0;34m\u001b[0m\u001b[0m\n\u001b[1;32m   1861\u001b[0m         \u001b[0;31m# X is already a transformed view of raw_documents so\u001b[0m\u001b[0;34m\u001b[0m\u001b[0;34m\u001b[0m\u001b[0;34m\u001b[0m\u001b[0m\n",
      "\u001b[0;32m~/opt/anaconda3/lib/python3.7/site-packages/sklearn/feature_extraction/text.py\u001b[0m in \u001b[0;36mfit_transform\u001b[0;34m(self, raw_documents, y)\u001b[0m\n\u001b[1;32m   1218\u001b[0m \u001b[0;34m\u001b[0m\u001b[0m\n\u001b[1;32m   1219\u001b[0m         vocabulary, X = self._count_vocab(raw_documents,\n\u001b[0;32m-> 1220\u001b[0;31m                                           self.fixed_vocabulary_)\n\u001b[0m\u001b[1;32m   1221\u001b[0m \u001b[0;34m\u001b[0m\u001b[0m\n\u001b[1;32m   1222\u001b[0m         \u001b[0;32mif\u001b[0m \u001b[0mself\u001b[0m\u001b[0;34m.\u001b[0m\u001b[0mbinary\u001b[0m\u001b[0;34m:\u001b[0m\u001b[0;34m\u001b[0m\u001b[0;34m\u001b[0m\u001b[0m\n",
      "\u001b[0;32m~/opt/anaconda3/lib/python3.7/site-packages/sklearn/feature_extraction/text.py\u001b[0m in \u001b[0;36m_count_vocab\u001b[0;34m(self, raw_documents, fixed_vocab)\u001b[0m\n\u001b[1;32m   1129\u001b[0m         \u001b[0;32mfor\u001b[0m \u001b[0mdoc\u001b[0m \u001b[0;32min\u001b[0m \u001b[0mraw_documents\u001b[0m\u001b[0;34m:\u001b[0m\u001b[0;34m\u001b[0m\u001b[0;34m\u001b[0m\u001b[0m\n\u001b[1;32m   1130\u001b[0m             \u001b[0mfeature_counter\u001b[0m \u001b[0;34m=\u001b[0m \u001b[0;34m{\u001b[0m\u001b[0;34m}\u001b[0m\u001b[0;34m\u001b[0m\u001b[0;34m\u001b[0m\u001b[0m\n\u001b[0;32m-> 1131\u001b[0;31m             \u001b[0;32mfor\u001b[0m \u001b[0mfeature\u001b[0m \u001b[0;32min\u001b[0m \u001b[0manalyze\u001b[0m\u001b[0;34m(\u001b[0m\u001b[0mdoc\u001b[0m\u001b[0;34m)\u001b[0m\u001b[0;34m:\u001b[0m\u001b[0;34m\u001b[0m\u001b[0;34m\u001b[0m\u001b[0m\n\u001b[0m\u001b[1;32m   1132\u001b[0m                 \u001b[0;32mtry\u001b[0m\u001b[0;34m:\u001b[0m\u001b[0;34m\u001b[0m\u001b[0;34m\u001b[0m\u001b[0m\n\u001b[1;32m   1133\u001b[0m                     \u001b[0mfeature_idx\u001b[0m \u001b[0;34m=\u001b[0m \u001b[0mvocabulary\u001b[0m\u001b[0;34m[\u001b[0m\u001b[0mfeature\u001b[0m\u001b[0;34m]\u001b[0m\u001b[0;34m\u001b[0m\u001b[0;34m\u001b[0m\u001b[0m\n",
      "\u001b[0;32m~/opt/anaconda3/lib/python3.7/site-packages/sklearn/feature_extraction/text.py\u001b[0m in \u001b[0;36m_analyze\u001b[0;34m(doc, analyzer, tokenizer, ngrams, preprocessor, decoder, stop_words)\u001b[0m\n\u001b[1;32m    101\u001b[0m     \u001b[0;32melse\u001b[0m\u001b[0;34m:\u001b[0m\u001b[0;34m\u001b[0m\u001b[0;34m\u001b[0m\u001b[0m\n\u001b[1;32m    102\u001b[0m         \u001b[0;32mif\u001b[0m \u001b[0mpreprocessor\u001b[0m \u001b[0;32mis\u001b[0m \u001b[0;32mnot\u001b[0m \u001b[0;32mNone\u001b[0m\u001b[0;34m:\u001b[0m\u001b[0;34m\u001b[0m\u001b[0;34m\u001b[0m\u001b[0m\n\u001b[0;32m--> 103\u001b[0;31m             \u001b[0mdoc\u001b[0m \u001b[0;34m=\u001b[0m \u001b[0mpreprocessor\u001b[0m\u001b[0;34m(\u001b[0m\u001b[0mdoc\u001b[0m\u001b[0;34m)\u001b[0m\u001b[0;34m\u001b[0m\u001b[0;34m\u001b[0m\u001b[0m\n\u001b[0m\u001b[1;32m    104\u001b[0m         \u001b[0;32mif\u001b[0m \u001b[0mtokenizer\u001b[0m \u001b[0;32mis\u001b[0m \u001b[0;32mnot\u001b[0m \u001b[0;32mNone\u001b[0m\u001b[0;34m:\u001b[0m\u001b[0;34m\u001b[0m\u001b[0;34m\u001b[0m\u001b[0m\n\u001b[1;32m    105\u001b[0m             \u001b[0mdoc\u001b[0m \u001b[0;34m=\u001b[0m \u001b[0mtokenizer\u001b[0m\u001b[0;34m(\u001b[0m\u001b[0mdoc\u001b[0m\u001b[0;34m)\u001b[0m\u001b[0;34m\u001b[0m\u001b[0;34m\u001b[0m\u001b[0m\n",
      "\u001b[0;32m~/opt/anaconda3/lib/python3.7/site-packages/sklearn/feature_extraction/text.py\u001b[0m in \u001b[0;36m_preprocess\u001b[0;34m(doc, accent_function, lower)\u001b[0m\n\u001b[1;32m     66\u001b[0m     \"\"\"\n\u001b[1;32m     67\u001b[0m     \u001b[0;32mif\u001b[0m \u001b[0mlower\u001b[0m\u001b[0;34m:\u001b[0m\u001b[0;34m\u001b[0m\u001b[0;34m\u001b[0m\u001b[0m\n\u001b[0;32m---> 68\u001b[0;31m         \u001b[0mdoc\u001b[0m \u001b[0;34m=\u001b[0m \u001b[0mdoc\u001b[0m\u001b[0;34m.\u001b[0m\u001b[0mlower\u001b[0m\u001b[0;34m(\u001b[0m\u001b[0;34m)\u001b[0m\u001b[0;34m\u001b[0m\u001b[0;34m\u001b[0m\u001b[0m\n\u001b[0m\u001b[1;32m     69\u001b[0m     \u001b[0;32mif\u001b[0m \u001b[0maccent_function\u001b[0m \u001b[0;32mis\u001b[0m \u001b[0;32mnot\u001b[0m \u001b[0;32mNone\u001b[0m\u001b[0;34m:\u001b[0m\u001b[0;34m\u001b[0m\u001b[0;34m\u001b[0m\u001b[0m\n\u001b[1;32m     70\u001b[0m         \u001b[0mdoc\u001b[0m \u001b[0;34m=\u001b[0m \u001b[0maccent_function\u001b[0m\u001b[0;34m(\u001b[0m\u001b[0mdoc\u001b[0m\u001b[0;34m)\u001b[0m\u001b[0;34m\u001b[0m\u001b[0;34m\u001b[0m\u001b[0m\n",
      "\u001b[0;31mAttributeError\u001b[0m: 'list' object has no attribute 'lower'"
     ]
    }
   ],
   "source": [
    "from sklearn.feature_extraction.text import TfidfVectorizer\n",
    "vectorizer = TfidfVectorizer()\n",
    "X = vectorizer.fit_transform(BBC_df['vector'])\n",
    "print(vectorizer.get_feature_names())"
   ]
  },
  {
   "cell_type": "code",
   "execution_count": 16,
   "metadata": {},
   "outputs": [
    {
     "data": {
      "text/plain": [
       "Times of India               95\n",
       "Telegraph.co.uk              53\n",
       "Independent Online           49\n",
       "Daily Mail                   46\n",
       "Irish Independent            41\n",
       "Stuff.co.nz                  39\n",
       "Irish Times                  32\n",
       "BBC News                     31\n",
       "Inquirer.net                 29\n",
       "The Hindu                    28\n",
       "The Guardian                 27\n",
       "Irish Examiner               27\n",
       "GhanaWeb                     26\n",
       "Toronto Star                 25\n",
       "Goal.com                     25\n",
       "Globe and Mail               23\n",
       "The Independent              21\n",
       "News24                       20\n",
       "ABC Online                   19\n",
       "The Nation Newspaper         19\n",
       "Otago Daily Times            18\n",
       "Vanguard                     17\n",
       "InterAksyon                  17\n",
       "CBC.ca                       16\n",
       "The42                        16\n",
       "Mirror.co.uk                 15\n",
       "Pakistan Observer            14\n",
       "Daily News &amp; Analysis    14\n",
       "The Straits Times            14\n",
       "Irish Mirror                 13\n",
       "Catch News                   13\n",
       "Free Malaysia Today          13\n",
       "Pundit Arena                 13\n",
       "Daily Times                  13\n",
       "Deccan Herald                13\n",
       "THISDAY Live                 12\n",
       "The Globe and Mail           12\n",
       "The Indian Express           12\n",
       "RTE.ie                       11\n",
       "Sun.Star                     11\n",
       "Times LIVE                   11\n",
       "Rappler                      11\n",
       "Channel News Asia            11\n",
       "Digital Journal              11\n",
       "Huffington Post              11\n",
       "thejournal.ie                11\n",
       "Livemint                     11\n",
       "Name: website, dtype: int64"
      ]
     },
     "execution_count": 16,
     "metadata": {},
     "output_type": "execute_result"
    }
   ],
   "source": [
    "reports['website'].value_counts()[reports['website'].value_counts() > 10]"
   ]
  },
  {
   "cell_type": "code",
   "execution_count": 48,
   "metadata": {},
   "outputs": [
    {
     "data": {
      "text/plain": [
       "Times of India          95\n",
       "Telegraph.co.uk         53\n",
       "Independent Online      49\n",
       "Daily Mail              46\n",
       "Irish Independent       41\n",
       "                        ..\n",
       "EconomyNext              1\n",
       "lehighvalleylive.com     1\n",
       "Evening Echo Cork        1\n",
       "Consequence of Sound     1\n",
       "Glamour                  1\n",
       "Name: website, Length: 1104, dtype: int64"
      ]
     },
     "execution_count": 48,
     "metadata": {},
     "output_type": "execute_result"
    }
   ],
   "source": [
    "reports['website'].value_counts()"
   ]
  },
  {
   "cell_type": "code",
   "execution_count": 28,
   "metadata": {},
   "outputs": [
    {
     "data": {
      "text/plain": [
       "0"
      ]
     },
     "execution_count": 28,
     "metadata": {},
     "output_type": "execute_result"
    }
   ],
   "source": [
    "sum(reports['text'] == np.nan)"
   ]
  },
  {
   "cell_type": "code",
   "execution_count": null,
   "metadata": {},
   "outputs": [],
   "source": [
    "reports_trim = reports[reports['text'] == ]"
   ]
  },
  {
   "cell_type": "code",
   "execution_count": 29,
   "metadata": {},
   "outputs": [],
   "source": [
    "from sklearn.feature_extraction.text import TfidfVectorizer\n",
    "\n",
    "v = TfidfVectorizer(stop_words='english')\n",
    "x = v.fit_transform(reports[reports['text'].notnull()]['text'])"
   ]
  },
  {
   "cell_type": "code",
   "execution_count": 30,
   "metadata": {},
   "outputs": [
    {
     "data": {
      "text/plain": [
       "<2914x59317 sparse matrix of type '<class 'numpy.float64'>'\n",
       "\twith 568967 stored elements in Compressed Sparse Row format>"
      ]
     },
     "execution_count": 30,
     "metadata": {},
     "output_type": "execute_result"
    }
   ],
   "source": [
    "x"
   ]
  },
  {
   "cell_type": "code",
   "execution_count": 31,
   "metadata": {},
   "outputs": [],
   "source": [
    "feature_array = np.array(v.get_feature_names())\n",
    "tfidf_sorting = np.argsort(x.toarray()).flatten()[::-1]"
   ]
  },
  {
   "cell_type": "code",
   "execution_count": 33,
   "metadata": {},
   "outputs": [
    {
     "data": {
      "text/plain": [
       "array([[0., 0., 0., ..., 0., 0., 0.],\n",
       "       [0., 0., 0., ..., 0., 0., 0.],\n",
       "       [0., 0., 0., ..., 0., 0., 0.],\n",
       "       ...,\n",
       "       [0., 0., 0., ..., 0., 0., 0.],\n",
       "       [0., 0., 0., ..., 0., 0., 0.],\n",
       "       [0., 0., 0., ..., 0., 0., 0.]])"
      ]
     },
     "execution_count": 33,
     "metadata": {},
     "output_type": "execute_result"
    }
   ],
   "source": [
    "x.toarray()"
   ]
  },
  {
   "cell_type": "code",
   "execution_count": 52,
   "metadata": {},
   "outputs": [
    {
     "data": {
      "text/plain": [
       "59317"
      ]
     },
     "execution_count": 52,
     "metadata": {},
     "output_type": "execute_result"
    }
   ],
   "source": [
    "len(v.get_feature_names())"
   ]
  },
  {
   "cell_type": "code",
   "execution_count": null,
   "metadata": {},
   "outputs": [],
   "source": []
  }
 ],
 "metadata": {
  "kernelspec": {
   "display_name": "Python 3",
   "language": "python",
   "name": "python3"
  },
  "language_info": {
   "codemirror_mode": {
    "name": "ipython",
    "version": 3
   },
   "file_extension": ".py",
   "mimetype": "text/x-python",
   "name": "python",
   "nbconvert_exporter": "python",
   "pygments_lexer": "ipython3",
   "version": "3.7.4"
  }
 },
 "nbformat": 4,
 "nbformat_minor": 4
}

{
 "cells": [
  {
   "cell_type": "code",
   "execution_count": 36,
   "metadata": {},
   "outputs": [],
   "source": [
    "import os\n",
    "import glob\n",
    "import pathlib\n",
    "from datetime import datetime\n",
    "\n",
    "from tqdm import tqdm\n",
    "\n",
    "import numpy as np\n",
    "import pandas as pd\n",
    "\n",
    "CLEAN_DATA_FOLDER = os.path.join(\"/Users\", \"mmackenzie\", \"Data\", \"peace-speech-project\", \"clean_sample\")"
   ]
  },
  {
   "cell_type": "code",
   "execution_count": 64,
   "metadata": {},
   "outputs": [],
   "source": [
    "def get_countries(): \n",
    "    country_folders = glob.glob(os.path.join(CLEAN_DATA_FOLDER, \"*/\"))\n",
    "    return [pathlib.Path(x).parts[-1] for x in country_folders]\n",
    "\n",
    "def get_all_files(country: str, publisher=\"*\", year=\"*\"):\n",
    "    text_files = glob.glob(os.path.join(CLEAN_DATA_FOLDER, country, publisher, year, \"*.txt\"))\n",
    "    return [os.path.join(*pathlib.Path(x).parts[-4:]) for x in text_files]\n",
    "\n",
    "def clean_file_name(file_name):\n",
    "    id_, _, date = file_name[:-4].split(\"_\")\n",
    "    month = datetime.strptime(date, \"%d-%m-%y\").month\n",
    "    return (month, id_)\n",
    "\n",
    "def get_details_from_path(file_path):\n",
    "    parts = pathlib.Path(file_path).parts[-4:]\n",
    "    extra = clean_file_name(parts[-1])\n",
    "    names = [\"country\", \"publisher\", \"year\", \"month\", \"id\"]\n",
    "    return pd.Series(\n",
    "        (*parts[:-1], *extra),\n",
    "        index=names\n",
    "    )\n",
    "\n",
    "def get_text_from_file(file_path, path=CLEAN_DATA_FOLDER):\n",
    "    with open(os.path.join(path, file_path), \"r\", encoding=\"ISO-8859-1\") as f:\n",
    "        lines = f.readlines()\n",
    "        f.close()\n",
    "        \n",
    "    title = lines[1].strip()\n",
    "    text = lines[-1].strip()\n",
    "        \n",
    "        \n",
    "    return pd.Series(\n",
    "        (title, text),\n",
    "        index=[\"title\", \"text\"]\n",
    "    )"
   ]
  },
  {
   "cell_type": "code",
   "execution_count": 27,
   "metadata": {},
   "outputs": [
    {
     "name": "stderr",
     "output_type": "stream",
     "text": [
      "100%|██████████| 20/20 [00:28<00:00,  1.43s/it]\n"
     ]
    }
   ],
   "source": [
    "countries = get_countries()\n",
    "article_paths = []\n",
    "for country in tqdm(countries):\n",
    "    article_paths.append(pd.Series(get_all_files(country)))\n",
    "    \n",
    "articles = pd.concat(article_paths).rename(\"path\")"
   ]
  },
  {
   "cell_type": "code",
   "execution_count": 28,
   "metadata": {},
   "outputs": [
    {
     "name": "stderr",
     "output_type": "stream",
     "text": [
      "/Users/mmackenzie/miniconda3/envs/peace/lib/python3.8/site-packages/tqdm/std.py:697: FutureWarning: The Panel class is removed from pandas. Accessing it from the top-level namespace will also be removed in the next version\n",
      "  from pandas import Panel\n",
      "100%|██████████| 1415825/1415825 [07:27<00:00, 3166.91it/s]\n"
     ]
    }
   ],
   "source": [
    "tqdm.pandas()\n",
    "path_details = articles.progress_apply(get_details_from_path).reset_index(drop=True)\n",
    "path_details = path_details.join(articles.reset_index(drop=True))"
   ]
  },
  {
   "cell_type": "code",
   "execution_count": 34,
   "metadata": {},
   "outputs": [],
   "source": [
    "sample_counts = path_details.groupby(\n",
    "    [\"country\", \"publisher\", \"year\"]\n",
    ").size().rename(\"num_articles\").reset_index()"
   ]
  },
  {
   "cell_type": "code",
   "execution_count": 37,
   "metadata": {},
   "outputs": [
    {
     "data": {
      "text/html": [
       "<div>\n",
       "<style scoped>\n",
       "    .dataframe tbody tr th:only-of-type {\n",
       "        vertical-align: middle;\n",
       "    }\n",
       "\n",
       "    .dataframe tbody tr th {\n",
       "        vertical-align: top;\n",
       "    }\n",
       "\n",
       "    .dataframe thead th {\n",
       "        text-align: right;\n",
       "    }\n",
       "</style>\n",
       "<table border=\"1\" class=\"dataframe\">\n",
       "  <thead>\n",
       "    <tr style=\"text-align: right;\">\n",
       "      <th></th>\n",
       "      <th>country</th>\n",
       "      <th>year</th>\n",
       "      <th>publisher</th>\n",
       "      <th>total_articles</th>\n",
       "      <th>sampled_articles</th>\n",
       "    </tr>\n",
       "  </thead>\n",
       "  <tbody>\n",
       "    <tr>\n",
       "      <th>0</th>\n",
       "      <td>AU</td>\n",
       "      <td>2010</td>\n",
       "      <td>abc-local</td>\n",
       "      <td>248</td>\n",
       "      <td>12</td>\n",
       "    </tr>\n",
       "    <tr>\n",
       "      <th>1</th>\n",
       "      <td>AU</td>\n",
       "      <td>2010</td>\n",
       "      <td>abc-online</td>\n",
       "      <td>2010</td>\n",
       "      <td>101</td>\n",
       "    </tr>\n",
       "    <tr>\n",
       "      <th>2</th>\n",
       "      <td>AU</td>\n",
       "      <td>2010</td>\n",
       "      <td>adnews</td>\n",
       "      <td>5</td>\n",
       "      <td>1</td>\n",
       "    </tr>\n",
       "    <tr>\n",
       "      <th>3</th>\n",
       "      <td>AU</td>\n",
       "      <td>2010</td>\n",
       "      <td>architecture-and-design</td>\n",
       "      <td>108</td>\n",
       "      <td>5</td>\n",
       "    </tr>\n",
       "    <tr>\n",
       "      <th>4</th>\n",
       "      <td>AU</td>\n",
       "      <td>2010</td>\n",
       "      <td>australian-personal-computer</td>\n",
       "      <td>193</td>\n",
       "      <td>10</td>\n",
       "    </tr>\n",
       "  </tbody>\n",
       "</table>\n",
       "</div>"
      ],
      "text/plain": [
       "  country  year                     publisher  total_articles  \\\n",
       "0      AU  2010                     abc-local             248   \n",
       "1      AU  2010                    abc-online            2010   \n",
       "2      AU  2010                        adnews               5   \n",
       "3      AU  2010       architecture-and-design             108   \n",
       "4      AU  2010  australian-personal-computer             193   \n",
       "\n",
       "   sampled_articles  \n",
       "0                12  \n",
       "1               101  \n",
       "2                 1  \n",
       "3                 5  \n",
       "4                10  "
      ]
     },
     "execution_count": 37,
     "metadata": {},
     "output_type": "execute_result"
    }
   ],
   "source": [
    "CAP = 500\n",
    "\n",
    "def get_num_samples(x, num_samples):\n",
    "    pct, max_ = x[\"pct\"], x[\"total_articles\"]\n",
    "    n = int(np.around(num_samples * pct))\n",
    "    if n > max_:\n",
    "        n = max_\n",
    "        \n",
    "    return n if n > 0 else 1\n",
    "\n",
    "sampled_counts = []\n",
    "for country, country_df in sample_counts.groupby(\"country\"):\n",
    "    \n",
    "    articles_by_year = country_df.groupby(\"year\")[\"num_articles\"].sum()\n",
    "    \n",
    "    # Median from the number of articles that are of the year 2015 and below. \n",
    "    num_to_sample = 500\n",
    "    num_to_sample = np.min([CAP, num_to_sample])\n",
    "    \n",
    "    # Going through each year at a time per country. \n",
    "    for year, year_df in country_df.groupby(\"year\"):\n",
    "        publishers = year_df.groupby(\"publisher\")[\"num_articles\"].sum().reset_index()\n",
    "        publishers[\"country\"] = country\n",
    "        publishers[\"year\"] = year\n",
    "        \n",
    "        publishers[\"pct\"] = publishers.num_articles / publishers.num_articles.sum()\n",
    "        publishers[\"total_articles\"] = publishers.num_articles\n",
    "        \n",
    "        publishers[\"sampled_articles\"] = publishers.apply(\n",
    "            get_num_samples, axis=1, num_samples=num_to_sample\n",
    "        )\n",
    "    \n",
    "        sampled_counts.append(publishers[[\n",
    "            \"country\", \"year\", \"publisher\", \"total_articles\", \"sampled_articles\"\n",
    "         ]].copy())\n",
    "        \n",
    "small_sample = pd.concat(sampled_counts)\n",
    "small_sample.head()"
   ]
  },
  {
   "cell_type": "code",
   "execution_count": 46,
   "metadata": {},
   "outputs": [
    {
     "name": "stdout",
     "output_type": "stream",
     "text": [
      "total_articles      1,415,825\n",
      "sampled_articles      111,854\n",
      "dtype: object\n"
     ]
    }
   ],
   "source": [
    "print(small_sample[[\"total_articles\", \"sampled_articles\"]].sum().apply(lambda x: f\"{x:,d}\"))"
   ]
  },
  {
   "cell_type": "code",
   "execution_count": 56,
   "metadata": {},
   "outputs": [
    {
     "name": "stderr",
     "output_type": "stream",
     "text": [
      "100%|██████████| 14288/14288 [01:09<00:00, 206.75it/s]\n"
     ]
    },
    {
     "data": {
      "text/plain": [
       "country  publisher  year         \n",
       "AU       9honey     2016  1194839    AU/9honey/2016/16005675_AU_20-12-16.txt\n",
       "                    2017  1194702    AU/9honey/2017/19839531_AU_04-08-17.txt\n",
       "                          1194701    AU/9honey/2017/17381786_AU_12-03-17.txt\n",
       "                          1194706    AU/9honey/2017/18885940_AU_09-06-17.txt\n",
       "                          1194653    AU/9honey/2017/21389159_AU_30-10-17.txt\n",
       "Name: path, dtype: object"
      ]
     },
     "execution_count": 56,
     "metadata": {},
     "output_type": "execute_result"
    }
   ],
   "source": [
    "import sys\n",
    "def sample_paths(x):\n",
    "    country, publisher, year = x.iloc[0, :3]\n",
    "    to_sample = small_sample.loc[\n",
    "        (small_sample.country == country) &\n",
    "        (small_sample.publisher == publisher) &\n",
    "        (small_sample.year == year)\n",
    "    ].iloc[0, -1]\n",
    "    \n",
    "    return x.sample(to_sample)[\"path\"]\n",
    "    sys.exit()\n",
    "\n",
    "paths_to_sample = path_details.groupby([\"country\", \"publisher\", \"year\"]).progress_apply(sample_paths)\n",
    "paths_to_sample = paths_to_sample.reset_index().rename(columns={\"level_3\": \"id\"})\n",
    "paths_to_sample.head()"
   ]
  },
  {
   "cell_type": "code",
   "execution_count": 67,
   "metadata": {},
   "outputs": [
    {
     "name": "stderr",
     "output_type": "stream",
     "text": [
      "100%|██████████| 111854/111854 [10:04<00:00, 185.16it/s]\n"
     ]
    }
   ],
   "source": [
    "text = paths_to_sample.path.progress_apply(get_text_from_file)"
   ]
  },
  {
   "cell_type": "code",
   "execution_count": 70,
   "metadata": {},
   "outputs": [],
   "source": [
    "paths_to_sample.join(text).to_csv(\"../data/small_sample_text.csv\", index=False)"
   ]
  },
  {
   "cell_type": "code",
   "execution_count": null,
   "metadata": {},
   "outputs": [],
   "source": []
  }
 ],
 "metadata": {
  "kernelspec": {
   "display_name": "Python 3",
   "language": "python",
   "name": "python3"
  },
  "language_info": {
   "codemirror_mode": {
    "name": "ipython",
    "version": 3
   },
   "file_extension": ".py",
   "mimetype": "text/x-python",
   "name": "python",
   "nbconvert_exporter": "python",
   "pygments_lexer": "ipython3",
   "version": "3.8.5"
  }
 },
 "nbformat": 4,
 "nbformat_minor": 4
}

{
 "cells": [
  {
   "cell_type": "code",
   "execution_count": 10,
   "metadata": {},
   "outputs": [],
   "source": [
    "import re\n",
    "\n",
    "import numpy as np\n",
    "import pandas as pd\n",
    "\n",
    "from sklearn.feature_extraction.text import CountVectorizer"
   ]
  },
  {
   "cell_type": "code",
   "execution_count": 6,
   "metadata": {},
   "outputs": [],
   "source": [
    "with open(\"data/raw/text.txt\", \"r\") as f:\n",
    "    text = pd.DataFrame(\n",
    "        [re.search(\"(\\d+)\\s(.*)\", l[2:]).groups() for l in f.readlines() if l.startswith(\"@@\")],\n",
    "        columns=[\"id\", \"text\"]\n",
    "    )\n",
    "    f.close()\n",
    "\n",
    "# id should be an integer\n",
    "text[\"id\"] = text[\"id\"].astype(int)"
   ]
  },
  {
   "cell_type": "code",
   "execution_count": 69,
   "metadata": {},
   "outputs": [],
   "source": [
    "cv = CountVectorizer(ngram_range=(3,6), min_df = 0, token_pattern=\"[\\w\\<][\\w\\>]+\")\n",
    "counts = cv.fit_transform(text.text)\n",
    "\n",
    "ngrams = cv.get_feature_names()\n",
    "\n",
    "terms = [x for x in ngrams if x.startswith(\"<\")]\n",
    "idxs = [cv.vocabulary_[x] for x in terms]"
   ]
  },
  {
   "cell_type": "code",
   "execution_count": 72,
   "metadata": {
    "scrolled": true
   },
   "outputs": [],
   "source": [
    "pd.DataFrame({\n",
    "    \"ngram\": terms, \n",
    "    \"count\": np.asarray(counts[:, idxs].sum(axis=0)).reshape(-1,)\n",
    "}).sort_values(\"count\", ascending=False).head(100).to_csv(\"top_100_common_3,6_tag_ngrams.csv\", index=False)"
   ]
  },
  {
   "cell_type": "markdown",
   "metadata": {},
   "source": [
    "Some Bigger Text Chunks:\n",
    "\n",
    "```\n",
    "<p> RELATED <h> From around the web <h> More from The Times of India <p> Recommended By Colombia <h> From Around the Web <h> More From The Times of India <p> Recommended By Colombia <h> Comments <p> Characters Remaining : 3000 <h> OR PROCEED WITHOUT REGISTRATION <p> Share on Twitter <h> SIGN IN WITH <p> FacebookGoogleEmail <p>\n",
    "```\n",
    "\n",
    "\n"
   ]
  },
  {
   "cell_type": "code",
   "execution_count": null,
   "metadata": {},
   "outputs": [],
   "source": [
    "[\n",
    "    \"<p> FacebookGoogleEmail <p>\",\n",
    "    \"<p> Recommended By Colombia <h>\",\n",
    "    \"<h> comments <p>\",\n",
    "    \n",
    "]"
   ]
  },
  {
   "cell_type": "code",
   "execution_count": null,
   "metadata": {},
   "outputs": [],
   "source": []
  }
 ],
 "metadata": {
  "kernelspec": {
   "display_name": "Python 3",
   "language": "python",
   "name": "python3"
  },
  "language_info": {
   "codemirror_mode": {
    "name": "ipython",
    "version": 3
   },
   "file_extension": ".py",
   "mimetype": "text/x-python",
   "name": "python",
   "nbconvert_exporter": "python",
   "pygments_lexer": "ipython3",
   "version": "3.8.5"
  }
 },
 "nbformat": 4,
 "nbformat_minor": 4
}
